{
 "cells": [
  {
   "cell_type": "markdown",
   "metadata": {},
   "source": [
    "Building a Better Board Game\n",
    "================"
   ]
  },
  {
   "cell_type": "markdown",
   "metadata": {},
   "source": [
    "## Setup\n",
    "### Import Libraries"
   ]
  },
  {
   "cell_type": "code",
   "execution_count": 1,
   "metadata": {
    "collapsed": false
   },
   "outputs": [
    {
     "name": "stdout",
     "output_type": "stream",
     "text": [
      "Matplotlib version 1.5.1 is installed.\n"
     ]
    }
   ],
   "source": [
    "import warnings\n",
    "import numpy as np\n",
    "import pandas as pd\n",
    "\n",
    "with warnings.catch_warnings():\n",
    "    warnings.simplefilter(\"ignore\")\n",
    "    %matplotlib inline\n",
    "    import matplotlib.pyplot as plt\n",
    "    import matplotlib\n",
    "\n",
    "print(\"Matplotlib version {} is installed.\").format(matplotlib.__version__)\n",
    "\n",
    "# Style 'ggplot' makes prettier plots.\n",
    "# (plt.style isn't supported before matplotlib v1.4)\n",
    "# Comment the following line, and this notebook will\n",
    "# still run on matplotlib <1.4, but with default plot styling.\n",
    "plt.style.use('ggplot')"
   ]
  },
  {
   "cell_type": "markdown",
   "metadata": {},
   "source": [
    "### Set some global variables for this notebook"
   ]
  },
  {
   "cell_type": "code",
   "execution_count": 2,
   "metadata": {
    "collapsed": true
   },
   "outputs": [],
   "source": [
    "# Set this to the number of CPUs you're comfortable\n",
    "# having this notebook use during model creation.\n",
    "cpus = 3\n",
    "\n",
    "# This is used throughout the notebook for consistent results.\n",
    "seed = 12"
   ]
  },
  {
   "cell_type": "markdown",
   "metadata": {},
   "source": [
    "## Data Exploration / Data Preprocessing"
   ]
  },
  {
   "cell_type": "markdown",
   "metadata": {},
   "source": [
    "Read all of our data in as a pandas data frame"
   ]
  },
  {
   "cell_type": "code",
   "execution_count": 3,
   "metadata": {
    "collapsed": false
   },
   "outputs": [],
   "source": [
    "all_data = pd.read_csv(\"../Data/CSV/games.csv\")"
   ]
  },
  {
   "cell_type": "markdown",
   "metadata": {},
   "source": [
    "How many observations (games) are in our set?"
   ]
  },
  {
   "cell_type": "code",
   "execution_count": 4,
   "metadata": {
    "collapsed": false
   },
   "outputs": [
    {
     "name": "stdout",
     "output_type": "stream",
     "text": [
      "The data set contains 84593 games.\n"
     ]
    }
   ],
   "source": [
    "print(\"The data set contains {} games.\").format(len(all_data))"
   ]
  },
  {
   "cell_type": "markdown",
   "metadata": {},
   "source": [
    "Get an idea of the range of values for each feature in the data"
   ]
  },
  {
   "cell_type": "code",
   "execution_count": 5,
   "metadata": {
    "collapsed": false
   },
   "outputs": [
    {
     "name": "stdout",
     "output_type": "stream",
     "text": [
      "                  id          year   ratingScore   ratingCount  ratingStdDev  \\\n",
      "count   84593.000000  84593.000000  84593.000000  84593.000000  84593.000000   \n",
      "mean    80013.233152   1807.385008      4.279174    110.736988      0.774242   \n",
      "std     63960.226532    588.475029      3.039157    929.482652      0.814887   \n",
      "min         1.000000  -3500.000000      0.000000      0.000000      0.000000   \n",
      "25%     23001.000000   1985.000000      0.000000      0.000000      0.000000   \n",
      "50%     60049.000000   2004.000000      5.333330      2.000000      0.695211   \n",
      "75%    139950.000000   2011.000000      6.716100     15.000000      1.419710   \n",
      "max    202858.000000   2018.000000     10.000000  59423.000000      4.500000   \n",
      "\n",
      "          weightAvg  weightLightPct  weightMediumLightPct  weightMediumPct  \\\n",
      "count  84593.000000    71714.000000          71714.000000     71714.000000   \n",
      "mean       0.876848       19.957703             16.550744        10.183793   \n",
      "std        1.160127       35.385330             29.738281        23.392949   \n",
      "min        0.000000        0.000000              0.000000         0.000000   \n",
      "25%        0.000000        0.000000              0.000000         0.000000   \n",
      "50%        0.000000        0.000000              0.000000         0.000000   \n",
      "75%        1.785700       25.000000             25.000000         0.000000   \n",
      "max        5.000000      100.000000            100.000000       100.000000   \n",
      "\n",
      "       weightMediumHeavyPct  weightHeavyPct  playerAgeMin   playtimeMin  \\\n",
      "count          71714.000000    71714.000000  84593.000000  84593.000000   \n",
      "mean               3.200719        1.401069      7.019162     47.198243   \n",
      "std               12.743502        8.428136      6.808049    327.225953   \n",
      "min                0.000000        0.000000      0.000000      0.000000   \n",
      "25%                0.000000        0.000000      0.000000      6.000000   \n",
      "50%                0.000000        0.000000      8.000000     30.000000   \n",
      "75%                0.000000        0.000000     12.000000     60.000000   \n",
      "max              100.000000      100.000000   1333.000000  60120.000000   \n",
      "\n",
      "        playtimeMax  playersStatedMin  playersStatedMax  playersBestMin  \\\n",
      "count  84593.000000       84593.00000      84593.000000    84593.000000   \n",
      "mean      51.168395           1.98825          5.682491        2.219664   \n",
      "std      341.891784           0.92677         55.144456        1.210552   \n",
      "min        0.000000           0.00000          0.000000        0.000000   \n",
      "25%        5.000000           2.00000          2.000000        2.000000   \n",
      "50%       30.000000           2.00000          4.000000        2.000000   \n",
      "75%       60.000000           2.00000          6.000000        2.000000   \n",
      "max    60120.000000          99.00000      11299.000000       99.000000   \n",
      "\n",
      "       playersBestMax  priceAverage   priceStdDev      \n",
      "count    84593.000000  19461.000000  19461.000000 ...  \n",
      "mean         5.263934     24.716603      7.954304 ...  \n",
      "std         54.600688     33.740133     16.690697 ...  \n",
      "min          0.000000      0.010000      0.000000 ...  \n",
      "25%          2.000000      9.950000      0.000000 ...  \n",
      "50%          4.000000     16.663333      3.925003 ...  \n",
      "75%          6.000000     29.084300      9.479418 ...  \n",
      "max      11299.000000   1300.000000    581.085046 ...  \n",
      "\n",
      "[8 rows x 163 columns]\n"
     ]
    }
   ],
   "source": [
    "with warnings.catch_warnings():\n",
    "    warnings.simplefilter(\"ignore\")\n",
    "    print(all_data.describe())"
   ]
  },
  {
   "cell_type": "markdown",
   "metadata": {},
   "source": [
    "It seems that most features have values for most games, with the exception of priceAverage and priceStdDev."
   ]
  },
  {
   "cell_type": "code",
   "execution_count": 6,
   "metadata": {
    "collapsed": false
   },
   "outputs": [
    {
     "name": "stdout",
     "output_type": "stream",
     "text": [
      "23.005% of games have a value for the 'priceAverage' feature.\n"
     ]
    }
   ],
   "source": [
    "feature = \"priceAverage\"\n",
    "percentage = len(all_data[feature].dropna())/float(len(all_data)) * 100\n",
    "print(\"{:.3f}% of games have a value for the '{}' feature.\").format(percentage, feature)"
   ]
  },
  {
   "cell_type": "markdown",
   "metadata": {},
   "source": [
    "How many games have values for *all* features in the set?"
   ]
  },
  {
   "cell_type": "code",
   "execution_count": 7,
   "metadata": {
    "collapsed": false
   },
   "outputs": [
    {
     "name": "stdout",
     "output_type": "stream",
     "text": [
      "22.573% of games have a values for all features.\n",
      "19095 games remain once filtering out those with null feature values.\n"
     ]
    }
   ],
   "source": [
    "all_without_na = all_data.dropna()\n",
    "percentage = len(all_without_na)/float(len(all_data)) * 100\n",
    "print(\"{:.3f}% of games have a values for all features.\").format(percentage, feature)\n",
    "print(\"{} games remain once filtering out those with null feature values.\").format(len(all_without_na))"
   ]
  },
  {
   "cell_type": "markdown",
   "metadata": {},
   "source": [
    "Some games have feature values that we might choose to consider as outliers."
   ]
  },
  {
   "cell_type": "code",
   "execution_count": 8,
   "metadata": {
    "collapsed": false
   },
   "outputs": [
    {
     "data": {
      "text/plain": [
       "count    19095.000000\n",
       "mean      1980.718408\n",
       "std        209.432133\n",
       "min      -3500.000000\n",
       "25%       1994.000000\n",
       "50%       2006.000000\n",
       "75%       2012.000000\n",
       "max       2016.000000\n",
       "Name: year, dtype: float64"
      ]
     },
     "execution_count": 8,
     "metadata": {},
     "output_type": "execute_result"
    }
   ],
   "source": [
    "all_without_na.year.describe()"
   ]
  },
  {
   "cell_type": "markdown",
   "metadata": {},
   "source": [
    "As you can see above, some games were published as early as 3500 B.C.\n",
    "Perhaps we should limit the year of publication to exclude ancient Egyptian games."
   ]
  },
  {
   "cell_type": "code",
   "execution_count": 9,
   "metadata": {
    "collapsed": false
   },
   "outputs": [
    {
     "name": "stdout",
     "output_type": "stream",
     "text": [
      "18799 games remain once filtering out those published prior to 1950.\n"
     ]
    }
   ],
   "source": [
    "since_1950 = all_without_na.query(\"year >= 1950\")\n",
    "print(\"{} games remain once filtering out those published prior to 1950.\").format(len(since_1950))"
   ]
  },
  {
   "cell_type": "markdown",
   "metadata": {},
   "source": [
    "Ratings are crowd-sourced. Ratings may be less reliable if there were too few people contributing to the rating.\n",
    "5 ratings imply that no rater can have more than 20% weight in the average rating.\n",
    "\n",
    "Can we show that 5 is a reasonable cutoff with data?"
   ]
  },
  {
   "cell_type": "code",
   "execution_count": 10,
   "metadata": {
    "collapsed": false
   },
   "outputs": [
    {
     "data": {
      "image/png": "[encoded data removed]",
      "text/plain": [
       "<matplotlib.figure.Figure at 0x7f4819d6d910>"
      ]
     },
     "metadata": {},
     "output_type": "display_data"
    }
   ],
   "source": [
    "raters_by_stddev = since_1950.groupby(['ratingCount'])['ratingStdDev'].mean().reset_index()\n",
    "plt.plot(raters_by_stddev['ratingCount'], raters_by_stddev['ratingStdDev'], 'o-')\n",
    "plt.plot([5,5],[0,2.5],'k--')\n",
    "plt.xlim(xmin=1, xmax=60)\n",
    "plt.ylim(ymin=0, ymax=1.8)\n",
    "plt.xlabel(\"Rater Count\")\n",
    "plt.ylabel(\"Average StdDev of Ratings\")\n",
    "plt.title(\"Fluctuation in Rating by Number of Raters\")\n",
    "plt.show()"
   ]
  },
  {
   "cell_type": "markdown",
   "metadata": {},
   "source": [
    "It seems that games with fewer than five raters have dissimilar standard deviations to those in the rest of the data.\n",
    "\n",
    "How many games have at least five votes cast toward their rating?"
   ]
  },
  {
   "cell_type": "code",
   "execution_count": 11,
   "metadata": {
    "collapsed": false
   },
   "outputs": [
    {
     "name": "stdout",
     "output_type": "stream",
     "text": [
      "17622 games remain once filtering out those rated by fewer than 5 people\n"
     ]
    }
   ],
   "source": [
    "at_least_three_raters = since_1950.query(\"ratingCount >= 5\")\n",
    "print(\"{} games remain once filtering out those rated by fewer than 5 people\").format(len(at_least_three_raters))"
   ]
  },
  {
   "cell_type": "markdown",
   "metadata": {},
   "source": [
    "Our target variable is going to be 'ratingScore'.\n",
    "\n",
    "Let's see how the ratingScore value is distributed."
   ]
  },
  {
   "cell_type": "code",
   "execution_count": 12,
   "metadata": {
    "collapsed": false
   },
   "outputs": [
    {
     "data": {
      "text/plain": [
       "count    17622.000000\n",
       "mean         6.511106\n",
       "std          0.999621\n",
       "min          1.500000\n",
       "25%          5.875985\n",
       "50%          6.554890\n",
       "75%          7.221110\n",
       "max          9.764290\n",
       "Name: ratingScore, dtype: float64"
      ]
     },
     "execution_count": 12,
     "metadata": {},
     "output_type": "execute_result"
    }
   ],
   "source": [
    "df = at_least_three_raters\n",
    "df.ratingScore.describe()"
   ]
  },
  {
   "cell_type": "markdown",
   "metadata": {},
   "source": [
    "It seems as if 1.0 is the minimum allowable score, and 10.0 is the max.\n",
    "\n",
    "A histogram will probably help us see how these ratings are distributed."
   ]
  },
  {
   "cell_type": "markdown",
   "metadata": {},
   "source": [
    "## Exploratory Visualization"
   ]
  },
  {
   "cell_type": "code",
   "execution_count": 13,
   "metadata": {
    "collapsed": false,
    "scrolled": true
   },
   "outputs": [
    {
     "data": {
      "image/png": "[encoded data removed]",
      "text/plain": [
       "<matplotlib.figure.Figure at 0x7f4817824890>"
      ]
     },
     "metadata": {},
     "output_type": "display_data"
    }
   ],
   "source": [
    "plt.figure(figsize=(10,6))\n",
    "plt.hist(df.ratingScore, 100)\n",
    "plt.xlim(xmin=1, xmax=10)\n",
    "plt.xlabel(\"Rating\")\n",
    "plt.ylabel(\"Frequency\")\n",
    "plt.title(\"Histogram of Game Ratings\")\n",
    "plt.show()"
   ]
  },
  {
   "cell_type": "markdown",
   "metadata": {},
   "source": [
    "Well, that looks like a skewed Gaussian distribution. Ratings of 1.0 and 10.0 are quite uncommon.\n",
    "\n",
    "The mean of our subset of the data is shifted toward higher ratings."
   ]
  },
  {
   "cell_type": "code",
   "execution_count": 14,
   "metadata": {
    "collapsed": false
   },
   "outputs": [
    {
     "name": "stdout",
     "output_type": "stream",
     "text": [
      "The mean rating for our subset of games is 6.511.\n"
     ]
    }
   ],
   "source": [
    "print \"The mean rating for our subset of games is {:.3f}.\".format(np.mean(df.ratingScore))"
   ]
  },
  {
   "cell_type": "markdown",
   "metadata": {},
   "source": [
    "Now let's separate the columns that we intend to use as features from that which is the target."
   ]
  },
  {
   "cell_type": "code",
   "execution_count": 15,
   "metadata": {
    "collapsed": false
   },
   "outputs": [],
   "source": [
    "# Why are we excluding features?\n",
    "# 'id' holds no predictive value\n",
    "# 'name', and 'url' are strings, and cannot be features in their current form\n",
    "# 'ratingCount' and 'ratingStdDev' will likely be unavailable features during prediction\n",
    "# 'ratingScore' is the target variable, and should not be used to train a model\n",
    "excluded = [\"id\", \"name\", \"url\", \"ratingScore\", \"ratingCount\", \"ratingStdDev\"]\n",
    "feature_cols = [col for col in df.columns if col not in excluded]\n",
    "\n",
    "# This is our target\n",
    "target_col = \"ratingScore\"\n",
    "\n",
    "# Create an n*m data frame where n is the number of games, and m is the number of features\n",
    "X_all = df[feature_cols]\n",
    "# Create an n*1 data frame where n is the number of games, each with the single target feature\n",
    "y_all = df[target_col]"
   ]
  },
  {
   "cell_type": "markdown",
   "metadata": {},
   "source": [
    "## Implementation"
   ]
  },
  {
   "cell_type": "markdown",
   "metadata": {},
   "source": [
    "We need to split this data into (at least) two portions.\n",
    "* A training set - 80% of total\n",
    " * We will use 5-fold cross-validation to get predictions on this portion.\n",
    "* A held-out test (or validation) set - 20% of total\n",
    " * We will use this set to prove the performance of the final model."
   ]
  },
  {
   "cell_type": "code",
   "execution_count": 16,
   "metadata": {
    "collapsed": false
   },
   "outputs": [
    {
     "name": "stdout",
     "output_type": "stream",
     "text": [
      "Cross-validated Training set includes 14097 samples\n",
      "Holdout/Validation set includes       3525 samples\n"
     ]
    }
   ],
   "source": [
    "# Select features (X) and corresponding labels (y) for the trainingCV and holdout sets\n",
    "# train_test_split() shuffles data randomly. We will set the random state for consistency\n",
    "from sklearn.cross_validation import train_test_split\n",
    "# X/y_train are 80% of data, for use in training/testing models.\n",
    "# X/y_holdout are 20% of data, for use in proving model performance at the end.\n",
    "X_train, X_holdout, y_train, y_holdout = train_test_split(\n",
    "    np.array(X_all), np.array(y_all),\n",
    "    train_size=0.8,\n",
    "    random_state=seed)\n",
    "\n",
    "from sklearn.cross_validation import KFold\n",
    "# We will split X_train into train and test 5 times via KFold\n",
    "kf = KFold(X_train.shape[0], n_folds=5, shuffle=True, random_state=seed)\n",
    "\n",
    "print \"Cross-validated Training set includes {} samples\".format(len(X_train))\n",
    "print \"Holdout/Validation set includes       {} samples\".format(len(X_holdout))"
   ]
  },
  {
   "cell_type": "markdown",
   "metadata": {},
   "source": [
    "With random sampling, we would anticipate the histogram of the target variable in the training and test sets to be similarly distributed."
   ]
  },
  {
   "cell_type": "code",
   "execution_count": 17,
   "metadata": {
    "collapsed": false
   },
   "outputs": [
    {
     "data": {
      "image/png": "[encoded data removed]",
      "text/plain": [
       "<matplotlib.figure.Figure at 0x7f4819a0e290>"
      ]
     },
     "metadata": {},
     "output_type": "display_data"
    }
   ],
   "source": [
    "plt.figure(figsize=(10,6))\n",
    "plt.hist(y_train, 100, label=\"Train/Test\")\n",
    "plt.hist(y_holdout, 100, label=\"Holdout\")\n",
    "plt.legend(loc='upper right')\n",
    "plt.xlim(xmin=1, xmax=10)\n",
    "plt.xlabel(\"Rating\")\n",
    "plt.ylabel(\"Frequency\")\n",
    "plt.title(\"Histogram of Game Ratings\")\n",
    "plt.show()"
   ]
  },
  {
   "cell_type": "markdown",
   "metadata": {},
   "source": [
    "It's useful to time training jobs. Let's set up some train and predict wrapper functions to do so."
   ]
  },
  {
   "cell_type": "code",
   "execution_count": 18,
   "metadata": {
    "collapsed": false
   },
   "outputs": [],
   "source": [
    "# Helper functions to train and predict\n",
    "import time\n",
    "\n",
    "def train(learner, X_train, y_train):\n",
    "    print \"Training {}...\".format(learner.__class__.__name__)\n",
    "    start = time.time()\n",
    "    learner.fit(X_train, y_train)\n",
    "    end = time.time()\n",
    "    print \"Done.\\nTraining time (secs): {:.3f}\".format(end - start)\n",
    "    \n",
    "def predict(learner, features):\n",
    "    print \"Predicting target using {}...\".format(learner.__class__.__name__)\n",
    "    start = time.time()\n",
    "    y_pred = learner.predict(features)\n",
    "    end = time.time()\n",
    "    print \"Done.\\nPrediction time (secs): {:.3f}\".format(end - start)\n",
    "    return pd.Series(y_pred)"
   ]
  },
  {
   "cell_type": "markdown",
   "metadata": {},
   "source": [
    "### Random Forest regressor\n",
    "#### A tree-based learner\n",
    "\n",
    "The first child learner we wish to try is Random Forest.\n",
    "\n",
    "First we'll try the default parameters, then we'll implement a grid search, since there are some parameters that might need to be tuned."
   ]
  },
  {
   "cell_type": "code",
   "execution_count": 19,
   "metadata": {
    "collapsed": false
   },
   "outputs": [],
   "source": [
    "# Random Forest is a tree-based learner.\n",
    "from sklearn.ensemble import RandomForestRegressor\n",
    "random_forest_reg = RandomForestRegressor(oob_score=True, random_state=seed)"
   ]
  },
  {
   "cell_type": "code",
   "execution_count": 20,
   "metadata": {
    "collapsed": false
   },
   "outputs": [
    {
     "name": "stdout",
     "output_type": "stream",
     "text": [
      "Training RandomForestRegressor...\n",
      "Done.\n",
      "Training time (secs): 2.346\n"
     ]
    },
    {
     "name": "stderr",
     "output_type": "stream",
     "text": [
      "/usr/local/lib/python2.7/dist-packages/sklearn/ensemble/forest.py:687: UserWarning: Some inputs do not have OOB scores. This probably means too few trees were used to compute any reliable oob estimates.\n",
      "  warn(\"Some inputs do not have OOB scores. \"\n"
     ]
    }
   ],
   "source": [
    "# Fit model to training data \n",
    "train(random_forest_reg, X_train, y_train)"
   ]
  },
  {
   "cell_type": "code",
   "execution_count": 21,
   "metadata": {
    "collapsed": false
   },
   "outputs": [],
   "source": [
    "from sklearn.cross_validation import cross_val_predict\n",
    "from sklearn.metrics import mean_squared_error\n",
    "from scipy.stats import pearsonr\n",
    "\n",
    "# Helper utility to show cross-validated performance statistics on a training set.\n",
    "def show_training_performance(estimator, X, y, cv=5):\n",
    "    # Compute predictions on the entire set by\n",
    "    # collecting the predictions on the held-out set from each fold\n",
    "    y_pred = cross_val_predict(estimator, X, y, cv=cv)\n",
    "    print \"Mean Squared Error:  {}\".format(mean_squared_error(y, y_pred))\n",
    "    print \"Pearson Correlation: {}\".format(pearsonr(y, y_pred)[0])\n",
    "    return y_pred"
   ]
  },
  {
   "cell_type": "code",
   "execution_count": 22,
   "metadata": {
    "collapsed": false
   },
   "outputs": [
    {
     "name": "stdout",
     "output_type": "stream",
     "text": [
      "Mean Squared Error:  0.41164611443\n",
      "Pearson Correlation: 0.767728938971\n"
     ]
    }
   ],
   "source": [
    "pred = show_training_performance(random_forest_reg, X_train, y_train, cv=kf)"
   ]
  },
  {
   "cell_type": "markdown",
   "metadata": {},
   "source": [
    "Now to try again, with a grid search, and some parameters."
   ]
  },
  {
   "cell_type": "code",
   "execution_count": 23,
   "metadata": {
    "collapsed": true
   },
   "outputs": [],
   "source": [
    "random_forest_reg = RandomForestRegressor(\n",
    "    n_estimators=2000,  # More is better (but slower)\n",
    "    oob_score=True,     # \n",
    "    random_state=seed)\n",
    "# We'll mess with some parameters in our grid search.\n",
    "# A smart choice for max_features is sqrt(num_features).\n",
    "# For our 159 features, that would be 12.6, so I'm starting in that range.\n",
    "parameters = {\n",
    "    'max_features': [10,20,30,40,50,60,80],\n",
    "    'min_samples_split': [2,3,4,6]\n",
    "}\n",
    "\n",
    "# We'll need these to do a grid search.\n",
    "from sklearn.metrics import make_scorer\n",
    "from sklearn.grid_search import GridSearchCV\n",
    "\n",
    "# We'll use MSE as our function to determine the winner in the grid search\n",
    "from sklearn.metrics import mean_squared_error\n",
    "mse_scorer = make_scorer(mean_squared_error, greater_is_better=False)\n",
    "\n",
    "# Set up the grid search, using training data in 5 folds\n",
    "rf_grid = GridSearchCV(random_forest_reg, parameters, scoring=mse_scorer, cv=kf, n_jobs=cpus)"
   ]
  },
  {
   "cell_type": "markdown",
   "metadata": {},
   "source": [
    "Perform the grid search."
   ]
  },
  {
   "cell_type": "code",
   "execution_count": 24,
   "metadata": {
    "collapsed": false
   },
   "outputs": [
    {
     "name": "stdout",
     "output_type": "stream",
     "text": [
      "Training GridSearchCV...\n",
      "Done.\n",
      "Training time (secs): 5071.421\n",
      "\n",
      "Best model: RandomForestRegressor(bootstrap=True, criterion='mse', max_depth=None,\n",
      "           max_features=40, max_leaf_nodes=None, min_samples_leaf=1,\n",
      "           min_samples_split=3, min_weight_fraction_leaf=0.0,\n",
      "           n_estimators=2000, n_jobs=1, oob_score=True, random_state=12,\n",
      "           verbose=0, warm_start=False)\n"
     ]
    }
   ],
   "source": [
    "# Fit model to training data - this will take a while.\n",
    "train(rf_grid, X_train, y_train)\n",
    "# Let's print which parameter(s) were chosen as the best in the grid\n",
    "print \"\\nBest model: {}\".format(rf_grid.best_estimator_)"
   ]
  },
  {
   "cell_type": "markdown",
   "metadata": {},
   "source": [
    "It might help to visualize the value from the scorer function across the parameter grid."
   ]
  },
  {
   "cell_type": "code",
   "execution_count": 25,
   "metadata": {
    "collapsed": false
   },
   "outputs": [
    {
     "data": {
      "image/png": "[encoded data removed]",
      "text/plain": [
       "<matplotlib.figure.Figure at 0x7f47f71f7f10>"
      ]
     },
     "metadata": {},
     "output_type": "display_data"
    }
   ],
   "source": [
    "# Subset the grid_scores_ list to isolate one dependent variable\n",
    "f, (max_features, min_samples_split) = plt.subplots(1, 2, figsize=(12, 3))\n",
    "\n",
    "# First plot 'max_features'\n",
    "models = zip(*[(abs(mean), std, p['max_features']) \n",
    "    for p, mean, std in [x for x in rf_grid.grid_scores_ if x[0]['min_samples_split'] == 3]])\n",
    "max_features.plot(models[2],models[0],'o-')\n",
    "max_features.set_title(\"Effect of 'max_features' on MSE of Model\", y=1.05)\n",
    "max_features.set_xlabel(\"max_features\")\n",
    "max_features.set_ylabel(\"MSE\")\n",
    "\n",
    "# then plot 'min_samples_split'\n",
    "models = zip(*[(abs(mean), std, p['min_samples_split']) \n",
    "    for p, mean, std in [x for x in rf_grid.grid_scores_ if x[0]['max_features'] == 40]])\n",
    "min_samples_split.plot(models[2],models[0],'o-')\n",
    "min_samples_split.set_title(\"Effect of 'min_samples_split' on MSE of Model\", y=1.05)\n",
    "min_samples_split.set_xlabel(\"min_samples_split\")\n",
    "min_samples_split.set_ylabel(\"MSE\")\n",
    "f.tight_layout(h_pad=10.05)\n",
    "plt.show()"
   ]
  },
  {
   "cell_type": "markdown",
   "metadata": {},
   "source": [
    "* 'max_features' seems to produce a models with the lowest mean squared error around 40 features.\n",
    "* 'min_samples_split' clearly seems to perform best with a value of 3."
   ]
  },
  {
   "cell_type": "markdown",
   "metadata": {},
   "source": [
    "Get Random Forest predictions on all the training data now that we've determined good parameter values.\n",
    "\n",
    "This is scoring the training set in 5 folds, and collecting the predictions from the held out portion at each fold, to ensure no bias in predictions on the training set."
   ]
  },
  {
   "cell_type": "markdown",
   "metadata": {},
   "source": [
    "For the metrics we've decided to use for model comparison, how does this model perform?"
   ]
  },
  {
   "cell_type": "code",
   "execution_count": 26,
   "metadata": {
    "collapsed": false
   },
   "outputs": [
    {
     "name": "stdout",
     "output_type": "stream",
     "text": [
      "Mean Squared Error:  0.3681646466\n",
      "Pearson Correlation: 0.79626430548\n"
     ]
    }
   ],
   "source": [
    "y_rf_pred = show_training_performance(rf_grid.best_estimator_, X_train, y_train, cv=kf)"
   ]
  },
  {
   "cell_type": "markdown",
   "metadata": {},
   "source": [
    "The parameters found by the grid, are indeed better than the defaults. I will use grid search to find parameters for the following child learners as well."
   ]
  },
  {
   "cell_type": "markdown",
   "metadata": {},
   "source": [
    "Let's visualize the actual vs predicted ratingScore, to see how close to the diagonal they are."
   ]
  },
  {
   "cell_type": "code",
   "execution_count": 27,
   "metadata": {
    "collapsed": false
   },
   "outputs": [],
   "source": [
    "# Helper utility to create actual vs. predicted plots\n",
    "def plot_actual_v_predicted(title, actual, predicted):\n",
    "    plt.figure(figsize=(6,6))\n",
    "    plt.plot(actual, predicted, 'o')\n",
    "    plt.plot([1, 10], [1, 10], 'k--')\n",
    "    plt.xlabel(\"Actual\")\n",
    "    plt.ylabel(\"Predicted\")\n",
    "    plt.title(\"Actual vs. Predicted values for ratingScore - {}\".format(title), y=1.05)\n",
    "    plt.xlim(1, 10)\n",
    "    plt.ylim(1, 10)\n",
    "    plt.gca().set_aspect('equal', adjustable='box')\n",
    "    plt.show()"
   ]
  },
  {
   "cell_type": "code",
   "execution_count": 28,
   "metadata": {
    "collapsed": false
   },
   "outputs": [
    {
     "data": {
      "image/png": "[encoded data removed]",
      "text/plain": [
       "<matplotlib.figure.Figure at 0x7f47f7425110>"
      ]
     },
     "metadata": {},
     "output_type": "display_data"
    }
   ],
   "source": [
    "plot_actual_v_predicted(\"RandomForest\", y_train, y_rf_pred)"
   ]
  },
  {
   "cell_type": "markdown",
   "metadata": {},
   "source": [
    "This model seems hesitant to predict values below 4. The largest errors are thus on the lowest-scoring games.\n",
    "\n",
    "Now that we've determined good parameter values, let's store them for later use."
   ]
  },
  {
   "cell_type": "code",
   "execution_count": 29,
   "metadata": {
    "collapsed": false
   },
   "outputs": [
    {
     "data": {
      "text/plain": [
       "RandomForestRegressor(bootstrap=True, criterion='mse', max_depth=None,\n",
       "           max_features=40, max_leaf_nodes=None, min_samples_leaf=1,\n",
       "           min_samples_split=3, min_weight_fraction_leaf=0.0,\n",
       "           n_estimators=2000, n_jobs=1, oob_score=True, random_state=12,\n",
       "           verbose=0, warm_start=False)"
      ]
     },
     "execution_count": 29,
     "metadata": {},
     "output_type": "execute_result"
    }
   ],
   "source": [
    "# Lock in our best-performing parameters for this estimator\n",
    "random_forest_reg.set_params(**rf_grid.best_params_)"
   ]
  },
  {
   "cell_type": "markdown",
   "metadata": {},
   "source": [
    "### K-Nearest-Neighbors\n",
    "#### An incredibly simple distance-based 'learner'"
   ]
  },
  {
   "cell_type": "code",
   "execution_count": 30,
   "metadata": {
    "collapsed": false
   },
   "outputs": [],
   "source": [
    "from sklearn.neighbors import KNeighborsRegressor\n",
    "k_neighbors_reg = KNeighborsRegressor( weights='distance' )\n",
    "# We'll mess with some parameters in our grid search.\n",
    "# n_neighbors is now many neighbors to consider for each point\n",
    "parameters = {\n",
    "    'n_neighbors': np.arange(2,32,2)\n",
    "}\n",
    "# Set up the grid search, using \"base\" data in 10 folds\n",
    "knn_grid = GridSearchCV(k_neighbors_reg, parameters, scoring=mse_scorer, cv=kf, n_jobs=cpus)"
   ]
  },
  {
   "cell_type": "markdown",
   "metadata": {},
   "source": [
    "What were the best values for the hyper-parameter(s) within our grid?"
   ]
  },
  {
   "cell_type": "code",
   "execution_count": 31,
   "metadata": {
    "collapsed": false
   },
   "outputs": [
    {
     "name": "stdout",
     "output_type": "stream",
     "text": [
      "Training GridSearchCV...\n",
      "Done.\n",
      "Training time (secs): 250.185\n",
      "\n",
      "Best model: KNeighborsRegressor(algorithm='auto', leaf_size=30, metric='minkowski',\n",
      "          metric_params=None, n_jobs=1, n_neighbors=10, p=2,\n",
      "          weights='distance')\n"
     ]
    }
   ],
   "source": [
    "# KNN models use Euclidian distance, so relative scales of features matter.\n",
    "# Here we are standardizing the feature values.\n",
    "from sklearn import preprocessing\n",
    "scaler = preprocessing.StandardScaler().fit(X_all)\n",
    "X_train_scaled = scaler.transform(X_train)\n",
    "# Fit model to training data\n",
    "train(knn_grid, X_train_scaled, y_train)\n",
    "# Let's print which parameter(s) were chosen as the best in the grid\n",
    "print \"\\nBest model: {}\".format(knn_grid.best_estimator_)"
   ]
  },
  {
   "cell_type": "code",
   "execution_count": 32,
   "metadata": {
    "collapsed": false
   },
   "outputs": [
    {
     "data": {
      "image/png": "[encoded data removed]",
      "text/plain": [
       "<matplotlib.figure.Figure at 0x7f47f7251090>"
      ]
     },
     "metadata": {},
     "output_type": "display_data"
    }
   ],
   "source": [
    "# Plot MSE vs 'n_neighbors'\n",
    "models = zip(*[(abs(mean), std, p['n_neighbors']) \n",
    "    for p, mean, std in [x for x in knn_grid.grid_scores_]])\n",
    "plt.plot(models[2],models[0],'o-')\n",
    "plt.title(\"Effect of 'n_neighbors' on MSE of Model\", y=1.05)\n",
    "plt.xlabel(\"n_neighbors\")\n",
    "plt.ylabel(\"MSE\")\n",
    "plt.show()"
   ]
  },
  {
   "cell_type": "markdown",
   "metadata": {},
   "source": [
    "* n_neighbors had an clear impact the resulting model's mean squared error. **10 Seemed to be a good value** (though not by much)"
   ]
  },
  {
   "cell_type": "markdown",
   "metadata": {},
   "source": [
    "Get K Neighbor predictions on all the training data now that we've determined good parameter values."
   ]
  },
  {
   "cell_type": "code",
   "execution_count": 33,
   "metadata": {
    "collapsed": false
   },
   "outputs": [
    {
     "name": "stdout",
     "output_type": "stream",
     "text": [
      "Mean Squared Error:  0.568845614465\n",
      "Pearson Correlation: 0.660520144685\n"
     ]
    },
    {
     "data": {
      "image/png": "[encoded data removed]",
      "text/plain": [
       "<matplotlib.figure.Figure at 0x7f47f73ab1d0>"
      ]
     },
     "metadata": {},
     "output_type": "display_data"
    }
   ],
   "source": [
    "y_knn_pred = show_training_performance(knn_grid.best_estimator_, X_train_scaled, y_train, cv=kf)\n",
    "plot_actual_v_predicted(\"KNeighbors\", y_train, y_knn_pred)"
   ]
  },
  {
   "cell_type": "markdown",
   "metadata": {},
   "source": [
    "Interestingly, this model _does_ predict values below 4 at times, though only when the games scored above a 4."
   ]
  },
  {
   "cell_type": "code",
   "execution_count": 34,
   "metadata": {
    "collapsed": false
   },
   "outputs": [
    {
     "data": {
      "text/plain": [
       "KNeighborsRegressor(algorithm='auto', leaf_size=30, metric='minkowski',\n",
       "          metric_params=None, n_jobs=1, n_neighbors=10, p=2,\n",
       "          weights='distance')"
      ]
     },
     "execution_count": 34,
     "metadata": {},
     "output_type": "execute_result"
    }
   ],
   "source": [
    "# Lock in our best-performing parameters for this estimator\n",
    "k_neighbors_reg.set_params(**knn_grid.best_params_)"
   ]
  },
  {
   "cell_type": "markdown",
   "metadata": {},
   "source": [
    "### Support Vector regressor\n",
    "#### A slow learner, with many important (and dependent) parameters"
   ]
  },
  {
   "cell_type": "markdown",
   "metadata": {},
   "source": [
    "I initially attempted to test multiple paramters in this grid. After **9 days**, modeling had not finished. I was eventually forced to try small sets of parameters and values so that I could achieve results at all.\n",
    "\n",
    " - I first varied the value of 'C', before settling on a best value of 10.\n",
    " - Then I varied the value of 'gamma', with 'C' fixed, and settled on a value of 0.001.\n",
    "\n",
    "I am aware that this is not an ideal method, as these two parameters are likely dependent, and if I had time for a more exhaustive grid search, the winning pair of these features might indeed be different for this feature set."
   ]
  },
  {
   "cell_type": "code",
   "execution_count": null,
   "metadata": {
    "collapsed": false
   },
   "outputs": [],
   "source": [
    "# The Support Vector Machine (SVM) as a regression is referred to as SVR.\n",
    "from sklearn.svm import SVR\n",
    "support_vector_reg = SVR()\n",
    "# We'll mess with some parameters in our grid search.\n",
    "# C - Penalty parameter (1/lambda)\n",
    "# kernel - method of mapping multi-dimensional feature space into lower dimensions to fit a plane\n",
    "parameters = {\n",
    "    'C':      [1,10,100],  # Determined through prior grid searches on only this parameter\n",
    "    'gamma':  [0.0001,0.001,0.01],   # Subsequent single-parameter grid search\n",
    "}\n",
    "# Set up the GridSearch with cross-validation\n",
    "svr_grid = GridSearchCV(support_vector_reg, parameters, scoring=mse_scorer, cv=kf, n_jobs=cpus)"
   ]
  },
  {
   "cell_type": "code",
   "execution_count": null,
   "metadata": {
    "collapsed": false,
    "scrolled": true
   },
   "outputs": [
    {
     "name": "stdout",
     "output_type": "stream",
     "text": [
      "Training GridSearchCV...\n"
     ]
    }
   ],
   "source": [
    "# Fit model to training data (with standardized data)\n",
    "train(svr_grid, X_train_scaled, y_train)\n",
    "# Let's print which parameter(s) were chosen as the best in the grid\n",
    "print \"Best model: {}\".format(svr_grid.best_estimator_)"
   ]
  },
  {
   "cell_type": "markdown",
   "metadata": {},
   "source": [
    "What were the best values for the hyper-parameter(s) within our grid?"
   ]
  },
  {
   "cell_type": "code",
   "execution_count": null,
   "metadata": {
    "collapsed": false
   },
   "outputs": [],
   "source": [
    "# Subset the grid_scores_ list to isolate one dependent variable\n",
    "f, (c, gamma) = plt.subplots(1, 2, figsize=(12, 3))\n",
    "\n",
    "# First plot 'max_features'\n",
    "models = zip(*[(abs(mean), std, p['C']) \n",
    "    for p, mean, std in [x for x in svr_grid.grid_scores_ if x[0]['gamma'] == 0.001]])\n",
    "c.plot(models[2],models[0],'o-')\n",
    "c.set_title(\"Effect of 'C' on MSE of Model\", y=1.05)\n",
    "c.set_xlabel(\"C\")\n",
    "c.set_xscale(\"log\")\n",
    "c.set_ylabel(\"MSE\")\n",
    "\n",
    "# then plot 'min_samples_split'\n",
    "models = zip(*[(abs(mean), std, p['gamma']) \n",
    "    for p, mean, std in [x for x in svr_grid.grid_scores_ if x[0]['C'] == 10]])\n",
    "gamma.plot(models[2],models[0],'o-')\n",
    "gamma.set_title(\"Effect of 'gamma' on MSE of Model\", y=1.05)\n",
    "gamma.set_xlabel(\"gamma\")\n",
    "gamma.set_xscale(\"log\")\n",
    "gamma.set_ylabel(\"MSE\")\n",
    "f.tight_layout(h_pad=10.05)\n",
    "plt.show()"
   ]
  },
  {
   "cell_type": "markdown",
   "metadata": {},
   "source": [
    "Let's again visualize the actual vs predicted ratingScore"
   ]
  },
  {
   "cell_type": "code",
   "execution_count": null,
   "metadata": {
    "collapsed": false
   },
   "outputs": [],
   "source": [
    "y_svr_pred = show_training_performance(svr_grid.best_estimator_, X_train_scaled, y_train, cv=kf)\n",
    "plot_actual_v_predicted(\"SVR\", y_train, y_svr_pred)"
   ]
  },
  {
   "cell_type": "code",
   "execution_count": null,
   "metadata": {
    "collapsed": false
   },
   "outputs": [],
   "source": [
    "# Lock in our best-performing parameters for this estimator\n",
    "support_vector_reg.set_params(**svr_grid.best_params_)"
   ]
  },
  {
   "cell_type": "markdown",
   "metadata": {},
   "source": [
    "### Gradient Boosting Regressor\n",
    "#### Another ensemble model"
   ]
  },
  {
   "cell_type": "markdown",
   "metadata": {},
   "source": [
    "What if we stacked these two learners together to create another model?"
   ]
  },
  {
   "cell_type": "code",
   "execution_count": null,
   "metadata": {
    "collapsed": false
   },
   "outputs": [],
   "source": [
    "from sklearn.ensemble import GradientBoostingRegressor\n",
    "gradient_boost_reg = GradientBoostingRegressor(\n",
    "    max_features=40,    # Choosing (for better or worse) to use the optimal value from the RF gridsearch\n",
    "    n_estimators=1000,  # More is better (but slower)\n",
    "    random_state=seed)\n",
    "# We'll mess with one parameter in our grid search. (GBR takes a long time)\n",
    "# max_depth - How far to grow each of the trees\n",
    "parameters = {\n",
    "    'max_depth': [2, 4, 6, 8, 10, 15, 20],\n",
    "}\n",
    "# Set up the GridSearch with cross-validation\n",
    "gbr_grid = GridSearchCV(gradient_boost_reg, parameters, scoring=mse_scorer, cv=kf, n_jobs=cpus)"
   ]
  },
  {
   "cell_type": "markdown",
   "metadata": {},
   "source": [
    "What were the best values for the hyper-parameter(s) within our grid?"
   ]
  },
  {
   "cell_type": "code",
   "execution_count": null,
   "metadata": {
    "collapsed": false
   },
   "outputs": [],
   "source": [
    "# Fit model to training data - not nearly as long-running as RandomForest\n",
    "train(gbr_grid, X_train, y_train)\n",
    "print \"Best model: {}\".format(gbr_grid.best_estimator_)"
   ]
  },
  {
   "cell_type": "code",
   "execution_count": null,
   "metadata": {
    "collapsed": false
   },
   "outputs": [],
   "source": [
    "# Plot 'max_depth' vs MSE\n",
    "models = zip(*[(abs(mean), std, p['max_depth']) for p, mean, std in gbr_grid.grid_scores_])\n",
    "plt.plot(models[2],models[0],'o-')\n",
    "plt.title(\"Effect of 'max_depth' on MSE of Model\", y=1.05)\n",
    "plt.xlabel(\"max_depth\")\n",
    "plt.ylabel(\"MSE\")\n",
    "plt.show()"
   ]
  },
  {
   "cell_type": "markdown",
   "metadata": {},
   "source": [
    "Let's again visualize the actual vs predicted ratingScore"
   ]
  },
  {
   "cell_type": "code",
   "execution_count": null,
   "metadata": {
    "collapsed": false
   },
   "outputs": [],
   "source": [
    "y_gbr_pred = show_training_performance(gbr_grid.best_estimator_, X_train, y_train, cv=kf)\n",
    "plot_actual_v_predicted(\"GBR\", y_train, y_gbr_pred)"
   ]
  },
  {
   "cell_type": "code",
   "execution_count": null,
   "metadata": {
    "collapsed": false
   },
   "outputs": [],
   "source": [
    "# Lock in our best-performing parameters for this estimator\n",
    "gradient_boost_reg.set_params(**gbr_grid.best_params_)"
   ]
  },
  {
   "cell_type": "markdown",
   "metadata": {},
   "source": [
    "## Creating a Pipeline for Stacking"
   ]
  },
  {
   "cell_type": "markdown",
   "metadata": {},
   "source": [
    "I couldn't seem to find a standard implementation for this.\n",
    "\n",
    "It's a bit tedious to train all of the child learners, then stack them manually. Why don't we make an estimator that accepts an array of child estimators, and a meta (stacking) estimator, and does the work for us?"
   ]
  },
  {
   "cell_type": "code",
   "execution_count": null,
   "metadata": {
    "collapsed": false
   },
   "outputs": [],
   "source": [
    "from sklearn.externals.joblib import Parallel, delayed\n",
    "from sklearn.metrics import make_scorer, mean_squared_error\n",
    "from scipy.stats import pearsonr\n",
    "from sklearn.cross_validation import cross_val_predict\n",
    "\n",
    "def _fit_estimator(estimator, X, y, scaler=False, cv=10, verbose=0, random_state=None):\n",
    "    \"\"\"Private function used to fit with a single estimator in parallel.\"\"\"\n",
    "    # If requested for this estimator, scale the features\n",
    "    if(scaler):\n",
    "        X = scaler.transform(X)\n",
    "    # Get cross-validated predictions on all of the data - to feed to stacker    \n",
    "    y_pred = cross_val_predict(estimator, X, y, cv=10)\n",
    "    if verbose > 0:\n",
    "        print \"Estimator: {}\".format(estimator.__class__.__name__)\n",
    "        print \"  Mean Squared Error:  {}\".format(mean_squared_error(y, y_pred))\n",
    "        print \"  Pearson Correlation: {}\".format(pearsonr(y, y_pred)[0])\n",
    "    # Train the final estimator on all data\n",
    "    estimator.fit(X, y)\n",
    "    # Return the cross-validated predictions for this child estimator\n",
    "    return y_pred\n",
    "\n",
    "def _predict_estimator(estimator, X, scaler=False, verbose=0):\n",
    "    \"\"\"Private function used to predict with a single estimator in parallel.\"\"\"\n",
    "    # If requested for this estimator, scale the features\n",
    "    if(scaler):\n",
    "        X = scaler.transform(X)\n",
    "    # Return the cross-validated predictions for this child estimator\n",
    "    return estimator.predict(X)\n",
    "\n",
    "class StackedRegression:\n",
    "    \n",
    "    def __init__(self, estimators, meta_estimator, cv=None, random_state=None, n_jobs=1, verbose=0):\n",
    "        self.__class__.__name__ = 'StackedRegression'\n",
    "        self.estimators = estimators\n",
    "        self.meta_estimator = meta_estimator\n",
    "        self.cv = cv\n",
    "        self.random_state = random_state\n",
    "        self.n_jobs = n_jobs\n",
    "        self.verbose = verbose\n",
    "    \n",
    "    def fit(self, X, y):\n",
    "        \"\"\"Fit the model according to the given training data.\"\"\"\n",
    "        # Parallel loop: fit each estimator, storing cross-validated predictions\n",
    "        self.child_predictions_ = np.transpose(np.array(\n",
    "            Parallel(n_jobs=self.n_jobs, verbose=self.verbose, backend=\"threading\")(\n",
    "                delayed(_fit_estimator)(\n",
    "                    est['estimator'], X, y, scaler=est['scaler'] if 'scaler' in est else False, cv=self.cv,\n",
    "                    verbose=self.verbose, random_state=self.random_state)\n",
    "                for est in self.estimators)))\n",
    "        # fit the meta-estimator on the predictions from the child estimators\n",
    "        self.stack_pred_ = _fit_estimator(self.meta_estimator['estimator'],\n",
    "            self.child_predictions_, y, scaler=False,\n",
    "            cv=self.cv, verbose=self.verbose, random_state=self.random_state)\n",
    "        return self\n",
    "    \n",
    "    def predict(self, X):\n",
    "        \"\"\"Predict class for X.\"\"\"\n",
    "        # First predict with all child estimators\n",
    "        # Parallel loop: predict with each child estimator\n",
    "        child_predictions = np.transpose(np.array(\n",
    "            Parallel(n_jobs=self.n_jobs, verbose=self.verbose, backend=\"threading\")(\n",
    "                delayed(_predict_estimator)(est['estimator'], X, scaler=est['scaler'] if 'scaler' in est else False,\n",
    "                                            verbose=self.verbose)\n",
    "                for est in self.estimators)))\n",
    "        # fit the meta-estimator on the predictions from the child estimators\n",
    "        stack_predictions = _predict_estimator(self.meta_estimator['estimator'], child_predictions,\n",
    "                                               scaler=False,\n",
    "                                               verbose=self.verbose)\n",
    "        return stack_predictions"
   ]
  },
  {
   "cell_type": "markdown",
   "metadata": {},
   "source": [
    "Now let's instantiate a meta-estimator, and the StackedRegressor.\n",
    "\n",
    "We'll be stacking the predictions of:\n",
    " * Random Forest\n",
    " * K-Nearest Neighbors\n",
    " * Support Vector Regression\n",
    " * Gradient Boosting Regression\n",
    "\n",
    "With a meta-estimator (stacker) of:\n",
    " * LassoCV - a linear modeler\n",
    " \n",
    "**NOTE**: We stored the best\\_params\\_ of each grid search above, so each child estimator will only attempt to make one model, with those best parameters this time around."
   ]
  },
  {
   "cell_type": "code",
   "execution_count": null,
   "metadata": {
    "collapsed": false
   },
   "outputs": [],
   "source": [
    "# I'll use a linear model (Lasso) as the \"meta-estimator\" or stacker\n",
    "from sklearn.linear_model import LassoCV\n",
    "lasso_cv_reg = LassoCV()\n",
    "\n",
    "# Provide standard scaling for some learners\n",
    "from sklearn import preprocessing\n",
    "standard_scaler = preprocessing.StandardScaler().fit(X_all)\n",
    "\n",
    "# Create the stacking regression learner\n",
    "stacker = StackedRegression(\n",
    "    # Child estimators\n",
    "    [{'estimator': random_forest_reg},\n",
    "     {'estimator': k_neighbors_reg,    'scaler': standard_scaler},\n",
    "     {'estimator': support_vector_reg, 'scaler': standard_scaler},\n",
    "     {'estimator': gradient_boost_reg}],\n",
    "    # Stacking meta-estimator\n",
    "    {'estimator': lasso_cv_reg},\n",
    "    # Additional settings, passed to lower-level estimators\n",
    "    cv=kf,\n",
    "    #verbose=1,\n",
    "    random_state=seed,\n",
    "    n_jobs=cpus)"
   ]
  },
  {
   "cell_type": "markdown",
   "metadata": {},
   "source": [
    "Let's give it a whirl!"
   ]
  },
  {
   "cell_type": "code",
   "execution_count": null,
   "metadata": {
    "collapsed": false
   },
   "outputs": [],
   "source": [
    "# Now train it\n",
    "train(stacker, X_train, y_train)"
   ]
  },
  {
   "cell_type": "markdown",
   "metadata": {},
   "source": [
    "## Each Estimator's Performance on The Held-out Set"
   ]
  },
  {
   "cell_type": "code",
   "execution_count": null,
   "metadata": {
    "collapsed": false
   },
   "outputs": [],
   "source": [
    "# Show holdout performance\n",
    "def show_holdout_performance(estimator, X, actual_y):\n",
    "    # Compute predictions on the held out set\n",
    "    predicted_y = estimator.predict(X)\n",
    "    print(estimator.__class__.__name__)\n",
    "    mse = mean_squared_error(actual_y, predicted_y)\n",
    "    corr = pearsonr(actual_y, predicted_y)[0]\n",
    "    print \"  Mean Squared Error:  {}\".format(mse)\n",
    "    print \"  Pearson Correlation: {}\".format(corr)\n",
    "    return (mse, corr, predicted_y)\n",
    "\n",
    "# Iterate over each estimator, scale features as necessary, score the held-out set\n",
    "performance = pd.DataFrame()\n",
    "for est in ([{'estimator': random_forest_reg},\n",
    "             {'estimator': k_neighbors_reg,    'scaler': scaler},\n",
    "             {'estimator': support_vector_reg, 'scaler': scaler},\n",
    "             {'estimator': gradient_boost_reg}]):\n",
    "    if('scaler' in est):\n",
    "        X = est['scaler'].transform(X_holdout)\n",
    "    else:\n",
    "        X = X_holdout\n",
    "    (mse, corr, predictions) = show_holdout_performance(est['estimator'], X, y_holdout)\n",
    "    performance = performance.append(pd.Series([est['estimator'].__class__.__name__, mse, corr]), ignore_index=True)"
   ]
  },
  {
   "cell_type": "markdown",
   "metadata": {},
   "source": [
    "It'd be interesting to note how the linear stacker weighted the importance of each of the child learners."
   ]
  },
  {
   "cell_type": "code",
   "execution_count": null,
   "metadata": {
    "collapsed": false
   },
   "outputs": [],
   "source": [
    "pd.Series(stacker.meta_estimator['estimator'].coef_,\n",
    "          index=[e['estimator'].__class__.__name__ for e in stacker.estimators])"
   ]
  },
  {
   "cell_type": "code",
   "execution_count": null,
   "metadata": {
    "collapsed": false
   },
   "outputs": [],
   "source": [
    "(mse, corr, final_predictions) = show_holdout_performance(stacker, X_holdout, y_holdout)\n",
    "performance = performance.append(pd.Series([stacker.__class__.__name__, mse, corr]), ignore_index=True)"
   ]
  },
  {
   "cell_type": "markdown",
   "metadata": {},
   "source": [
    "It looks as if we've been able to achieve a higher correlation via stacking than from any learner individually (barely)."
   ]
  },
  {
   "cell_type": "code",
   "execution_count": null,
   "metadata": {
    "collapsed": false
   },
   "outputs": [],
   "source": [
    "plt.figure(figsize=(6,6))\n",
    "plt.plot(y_holdout, final_predictions, 'o')\n",
    "plt.plot([1, 10], [1, 10], 'k--')\n",
    "plt.xlabel(\"Actual\")\n",
    "plt.ylabel(\"Predicted\")\n",
    "plt.title(\"Actual vs. Predicted values for ratingScore - Lasso\", y=1.05)\n",
    "plt.xlim(1, 10)\n",
    "plt.ylim(1, 10)\n",
    "plt.gca().set_aspect('equal', adjustable='box')\n",
    "plt.show()"
   ]
  },
  {
   "cell_type": "markdown",
   "metadata": {},
   "source": [
    "## An Attempt at Improvement"
   ]
  },
  {
   "cell_type": "markdown",
   "metadata": {},
   "source": [
    "With 84593 games, we were forced to shrink our data to 17622 examples to ensure that all features had values.\n",
    "\n",
    "What if we dropped _priceAverage_, and _priceStdDev_, since the majority of the games did not have values for these features?\n",
    "\n",
    "This should help to answer which is more important to the creation of a strong model:\n",
    "\n",
    " - The inclusion of _priceAverage_ and _priceStdDev_, potentially predictive features\n",
    " - The inclusion of more training data to these learners"
   ]
  },
  {
   "cell_type": "markdown",
   "metadata": {},
   "source": [
    "Repeating the subsetting of data from above, but after removing two columns from the feature vector"
   ]
  },
  {
   "cell_type": "code",
   "execution_count": null,
   "metadata": {
    "collapsed": false
   },
   "outputs": [],
   "source": [
    "# Drop the two price-based features\n",
    "no_prices = all_data.drop(['priceAverage','priceStdDev'], axis=1)\n",
    "print(\"Games initially:    {}\").format(len(no_prices))\n",
    "# Drop all rows with NA in any feature column\n",
    "no_prices_without_na = no_prices.dropna()\n",
    "print(\"Games without NAs:  {}\").format(len(no_prices_without_na))\n",
    "# Filter with the same assumptions as previously\n",
    "df_no_prices = no_prices_without_na.query(\"year >= 1950 & ratingCount >= 5\")\n",
    "print(\"Games after filter: {}\").format(len(df_no_prices))\n",
    "\n",
    "# Split into features and target\n",
    "excluded = [\"id\", \"name\", \"url\", \"ratingScore\", \"ratingCount\", \"ratingStdDev\"]\n",
    "feature_cols = [col for col in df_no_prices.columns if col not in excluded]\n",
    "X_all_no_prices = df_no_prices[feature_cols]\n",
    "y_all_no_prices = df_no_prices[target_col]\n",
    "\n",
    "# Again, an 80/20 split, but from a larger data pool\n",
    "X_train_no_prices, X_holdout_no_prices, y_train_no_prices, y_holdout_no_prices = train_test_split(\n",
    "    np.array(X_all_no_prices), np.array(y_all_no_prices),\n",
    "    train_size=0.8,\n",
    "    random_state=seed)"
   ]
  },
  {
   "cell_type": "markdown",
   "metadata": {},
   "source": [
    "That's a shame. It seems that the same games that don't have price history information are often the ones with ratings provided by fewer than five raters. I suppose that would make sense, but it also limits our usable data.\n",
    "\n",
    "Let's produce a plot to see if what we're inferring is correct."
   ]
  },
  {
   "cell_type": "code",
   "execution_count": null,
   "metadata": {
    "collapsed": false
   },
   "outputs": [],
   "source": [
    "# For Unicode '≥' symbol\n",
    "from __future__ import unicode_literals\n",
    "\n",
    "plt.figure(figsize=(10,6))\n",
    "plt.hist(all_data['ratingCount'],\n",
    "         bins=np.logspace(0, 4, 50), color=\"#188918\", label=\"Have Prices\")\n",
    "plt.hist(all_data.query(\"priceAverage != priceAverage\")['ratingCount'],    # See citation\n",
    "         bins=np.logspace(0, 4, 50), color=\"#e24a33\", label=\"No Prices\")\n",
    "# Line at the threshold of 5 raters\n",
    "plt.plot([4.5, 4.5], [0, 12000], 'k--', label=\"≥ 5 Rater Threshold\")\n",
    "plt.gca().set_xscale('log')\n",
    "plt.ylabel(\"Frequency\")\n",
    "plt.xlabel(\"Ratings Available\")\n",
    "plt.legend(loc='upper right')\n",
    "plt.title(\"Availability of Price Features by Rating Count\")\n",
    "plt.show()\n",
    "\n",
    "# Citation - Hack to use pandas query() to find rows with null value\n",
    "# http://stackoverflow.com/questions/26535563/querying-for-nan-and-other-names-in-pandas"
   ]
  },
  {
   "cell_type": "markdown",
   "metadata": {},
   "source": [
    "Yup. The first time around:\n",
    " - We removed the observations (i.e games or rows) with no price data - the red portion in the chart.\n",
    " - Then we removed the remaining (green) observations with fewer than five raters. This removed a negligible amount of data.\n",
    "\n",
    "However, the second time around:\n",
    " - We left in the observations with price data (red)\n",
    " - Then again removed the observations with fewer than five raters (red + green to the left of the threshold), which resulted in a large amount of lost data.\n",
    "\n",
    "It is pretty clear from this chart that once approximately one-hundred raters have participated, the game is nearly guaranteed to have available price data."
   ]
  },
  {
   "cell_type": "markdown",
   "metadata": {},
   "source": [
    "Now we're ready to train the child learners, and the stacker.\n",
    "\n",
    "**Note:**, I have choosen not to perform a new grid search for new parameter values. This seems a reasonable choice, as the number (and values) of features are nearly the same, and this will save a good deal of time."
   ]
  },
  {
   "cell_type": "code",
   "execution_count": null,
   "metadata": {
    "collapsed": false
   },
   "outputs": [],
   "source": [
    "# We should re-calculate the standard scaler with this data (it shouldn't differ by much)\n",
    "standard_scaler_no_prices = preprocessing.StandardScaler().fit(X_all_no_prices)\n",
    "\n",
    "# So we don't overwrite our models from before.\n",
    "from sklearn.base import clone\n",
    "\n",
    "# Create the stacking regression learner\n",
    "stacker_no_prices = StackedRegression(\n",
    "    # Child estimators - cloning the previous ones here to not overwrite the original models\n",
    "    [{'estimator': clone(random_forest_reg)},\n",
    "     {'estimator': clone(k_neighbors_reg),    'scaler': standard_scaler_no_prices},\n",
    "     {'estimator': clone(support_vector_reg), 'scaler': standard_scaler_no_prices},\n",
    "     {'estimator': clone(gradient_boost_reg)}],\n",
    "    # Stacking meta-estimator\n",
    "    {'estimator': clone(lasso_cv_reg)},\n",
    "    # Additional settings, passed to lower-level estimators\n",
    "    cv=kf,\n",
    "    #verbose=1,\n",
    "    random_state=seed,\n",
    "    n_jobs=cpus)\n",
    "\n",
    "# Now train it\n",
    "train(stacker_no_prices, X_train_no_prices, y_train_no_prices)\n",
    "\n",
    "# How were the child learners weighted?\n",
    "pd.Series(stacker_no_prices.meta_estimator['estimator'].coef_,\n",
    "          index=[e['estimator'].__class__.__name__ for e in stacker_no_prices.estimators])\n",
    "\n",
    "# Predict on the holdout set\n",
    "final_predictions_no_prices = show_holdout_performance(stacker_no_prices, X_holdout_no_prices, y_holdout_no_prices)"
   ]
  },
  {
   "cell_type": "markdown",
   "metadata": {},
   "source": [
    "The correlation of 0.7653 is lower than that of 0.8088 from the model that included price-based features.\n",
    "\n",
    "**It seems that in this case, price-based features provided more predictive power than nearly doubling the size of the training set.**"
   ]
  },
  {
   "cell_type": "markdown",
   "metadata": {},
   "source": [
    "## Playing at Board Game Design"
   ]
  },
  {
   "cell_type": "markdown",
   "metadata": {},
   "source": [
    "Now that we have a model that predicts crowd-sourced game ratings with reasonable accuracy, can we use it to help us design a best-selling game?\n",
    "\n",
    "Let's explore the 157-dimensional feature space by creating 100,000 reasonable feature vectors, creating predicted ratings for each, and evaluating the vectors that score well."
   ]
  },
  {
   "cell_type": "code",
   "execution_count": null,
   "metadata": {
    "collapsed": false
   },
   "outputs": [],
   "source": [
    "# We want to get consistent results\n",
    "np.random.seed(seed=seed)\n",
    "# Number of proposed game feature vectors to create\n",
    "games_to_create = 100000\n",
    "\n",
    "# Pre-allocate a pandas DataFrame of n x m (games_to_create observations, by 157 features)\n",
    "excluded = [\"id\", \"name\", \"url\", \"ratingScore\", \"ratingCount\", \"ratingStdDev\"]\n",
    "feature_cols = [col for col in all_data.columns if col not in excluded]\n",
    "proposed_games = pd.DataFrame(0, index=np.arange(games_to_create), columns=feature_cols)\n",
    "for feature in feature_cols:\n",
    "    # Randomly choose from all seen values for this feature, 100,000 times\n",
    "    proposed_games[feature] = np.random.choice(all_data[feature].dropna(), games_to_create)\n",
    "\n",
    "# Enforce some data rules\n",
    "# 1. All weight*Pct features for a given row should sum to 100.\n",
    "import re\n",
    "weight_features = filter(re.compile('^weight.*Pct$').match, feature_cols)\n",
    "proposed_games[weight_features] = np.random.dirichlet(\n",
    "    np.ones(len(weight_features))/4, \n",
    "    size=games_to_create) * 100\n",
    "#temp_weights = pd.DataFrame(np.random.rand(games_to_create,len(weight_features)))\n",
    "#proposed_games[weight_features] = temp_weights.div(pd.Series(temp_weights.sum(axis=1)), axis=0) * 100\n",
    "\n",
    "# 2. weightAvg should reflect the percentages previously computed.\n",
    "proposed_games['weightAvg'] = (\n",
    "    (proposed_games['weightLightPct']       / 100 * 1) +\n",
    "    (proposed_games['weightMediumLightPct'] / 100 * 2) + \n",
    "    (proposed_games['weightMediumPct']      / 100 * 3) + \n",
    "    (proposed_games['weightMediumHeavyPct'] / 100 * 4) + \n",
    "    (proposed_games['weightHeavyPct']       / 100 * 5))\n",
    "\n",
    "# 3. All subdomain* features for a given row should sum to 100.\n",
    "subdomain_features = filter(re.compile('^subdomain.*').match, feature_cols)\n",
    "proposed_games[subdomain_features] = np.random.dirichlet(    # See citation\n",
    "    np.ones(len(subdomain_features))/4, \n",
    "    size=games_to_create) * 100\n",
    "#temp_weights = pd.DataFrame(np.random.rand(games_to_create,len(subdomain_features)))\n",
    "#proposed_games[subdomain_features] = temp_weights.div(pd.Series(temp_weights.sum(axis=1)), axis=0) * 100\n",
    "\n",
    "# 4. Let's assume that our potential game will be published in 2017.\n",
    "proposed_games['year'] = np.repeat(2017, games_to_create)\n",
    "\n",
    "# 5. Let's fix the number of players at between 2 and 4.\n",
    "proposed_games['playersStatedMin'] = np.repeat(2, games_to_create)\n",
    "proposed_games['playersStatedMax'] = np.repeat(4, games_to_create)\n",
    "proposed_games['playersBestMin'] = np.repeat(2, games_to_create)\n",
    "proposed_games['playersBestMax'] = np.repeat(4, games_to_create)\n",
    "\n",
    "# 6. Play time should be between 30 and 60 minutes.\n",
    "proposed_games['playtimeMin'] = np.repeat(30, games_to_create)\n",
    "proposed_games['playtimeMax'] = np.repeat(60, games_to_create)\n",
    "\n",
    "# http://stackoverflow.com/questions/18659858/generating-a-list-of-random-numbers-summing-to-1"
   ]
  },
  {
   "cell_type": "markdown",
   "metadata": {},
   "source": [
    "Now we can use this set of 100000 prospective game designs, and see if any will likely receive high scores."
   ]
  },
  {
   "cell_type": "code",
   "execution_count": null,
   "metadata": {
    "collapsed": false
   },
   "outputs": [],
   "source": [
    "predicted_ratings = predict(stacker, proposed_games)"
   ]
  },
  {
   "cell_type": "markdown",
   "metadata": {},
   "source": [
    "Let's plot a comparison of the ratings of these potential games, and their prices, to see if these seem to be related."
   ]
  },
  {
   "cell_type": "code",
   "execution_count": null,
   "metadata": {
    "collapsed": false
   },
   "outputs": [],
   "source": [
    "proposed_games['predicted_rating'] = predicted_ratings\n",
    "proposed_games.sort(columns='predicted_rating', ascending=False)\n",
    "\n",
    "# Let's limit our potential games to those under $75, and see how the ratings fall by price.\n",
    "plt.figure(figsize=(6,6))\n",
    "plt.plot(proposed_games.query(\"priceAverage < 75\")['predicted_rating'],\n",
    "         proposed_games.query(\"priceAverage < 75\")['priceAverage'],\n",
    "         'o')\n",
    "plt.xlabel(\"Estimated Rating\")\n",
    "plt.ylabel(\"Price\")\n",
    "plt.title(\"Proposed Game Estimated Rating by Game Price\", y=1.05)\n",
    "plt.show()"
   ]
  },
  {
   "cell_type": "markdown",
   "metadata": {},
   "source": [
    "Price doesn't seem to correlate strongly with rating, until the price drops below $10."
   ]
  },
  {
   "cell_type": "markdown",
   "metadata": {},
   "source": [
    "Let's see if we can isolate some common game categories or mechanics among the best (and worst) rated games."
   ]
  },
  {
   "cell_type": "code",
   "execution_count": null,
   "metadata": {
    "collapsed": false
   },
   "outputs": [],
   "source": [
    "# Get some aggregate information about the entire game set\n",
    "all_mechanics = proposed_games[filter(re.compile('^mechanic.*').match,\n",
    "                                      feature_cols)].sum(axis=0).order(ascending=False)\n",
    "all_categories = proposed_games[filter(re.compile('^categor.*').match,\n",
    "                                       feature_cols)].sum(axis=0).order(ascending=False)\n",
    "\n",
    "# Get some aggregate information about the best-rated X games in this set\n",
    "limit = 100\n",
    "best_games  = proposed_games.sort(columns='predicted_rating', ascending=False).iloc[0:limit+1]\n",
    "best_mechanics = best_games[filter(re.compile('^mechanic.*').match,\n",
    "                                   feature_cols)].sum(axis=0).order(ascending=False)\n",
    "best_categories = best_games[filter(re.compile('^categor.*').match,\n",
    "                                    feature_cols)].sum(axis=0).order(ascending=False)\n",
    "\n",
    "# The same for the worst X games\n",
    "worst_games = proposed_games.sort(columns='predicted_rating', ascending=True).iloc[0:limit+1]\n",
    "worst_mechanics = worst_games[filter(re.compile('^mechanic.*').match,\n",
    "                                     feature_cols)].sum(axis=0).order(ascending=False)\n",
    "worst_categories = worst_games[filter(re.compile('^categor.*').match,\n",
    "                                      feature_cols)].sum(axis=0).order(ascending=False)\n",
    "\n",
    "# Create some pie charts\n",
    "r = re.compile('(mechanic|category):')\n",
    "colors = plt.rcParams['axes.color_cycle']\n",
    "f, axes = plt.subplots(3, 2, figsize=(10, 8))\n",
    "f.tight_layout()\n",
    "for (subplot, frequencies, title) in zip(axes.flat,\n",
    "                                  (all_categories, all_mechanics, \n",
    "                                   best_categories, best_mechanics, \n",
    "                                   worst_categories, worst_mechanics),\n",
    "                                  ('Categories - All Games', 'Mechanics - All Games',\n",
    "                                   'Categories - Best Games', 'Mechanics - Best Games',\n",
    "                                   'Categories - Worst Games', 'Mechanics - Worst Games')):\n",
    "    # Create a pair of plots for each tuple\n",
    "    subplot.set_aspect('equal', adjustable='box')    \n",
    "    subplot.pie(frequencies.iloc[0:6],\n",
    "                labels=[r.sub('', l) for l in frequencies.iloc[0:6].index.tolist()],\n",
    "                colors=colors)\n",
    "    subplot.set_title(title)\n",
    "#Show them all - this might be messy.\n",
    "plt.show()"
   ]
  },
  {
   "cell_type": "markdown",
   "metadata": {},
   "source": [
    "### Common threads\n",
    " - Card Games as a category are common among all games, and similarly represented in both best, and worst rated games\n",
    " - Dice rolling as a mechanic is also similarly represented in both best and worst games\n",
    " \n",
    "### Best performer attributes\n",
    " - The best performing games are disproportionally expansions for base games - perhaps just because hit games are more likely to spawn expansions in the first place\n",
    " - Children's games and war games are frequently categories for well-ranked games that do not often appear in poorly ranked games\n",
    " - 'Hex-and-counter', 'variable player powers', and 'card drafting' are game mechanics found more often in well-ranked games\n",
    "\n",
    "### Worst performer attributes\n",
    " - Trivia and party games seem to be more likely to fare poorly in ratings\n",
    " - Games with 'roll/spin and move', and 'acting' mechanics are to be avoided."
   ]
  },
  {
   "cell_type": "code",
   "execution_count": null,
   "metadata": {
    "collapsed": false
   },
   "outputs": [],
   "source": [
    "#Exploring individual games\n",
    "# Uncomment the next line to see the non-truncated list of all the features for a given game\n",
    "#pd.options.display.max_rows = 999\n",
    "print(worst_games.iloc[1])"
   ]
  },
  {
   "cell_type": "markdown",
   "metadata": {},
   "source": [
    "#### Best game suggestion - though potential outlier:\n",
    " An expansion for a strategy word game with an American civil war theme, priced at \\$63.\n",
    " (I'd play that)\n",
    " \n",
    "#### A few other reasonable candidates:\n",
    " - A Napoleonic wargame with a hex-and-counter mechanic for \\$70\n",
    " - A complex adventure/horror card game aimed at families for \\$39\n",
    " - An action/dexterity dice-rolling game with a set-collecting mechanic for \\$38\n",
    " - A children's animal-themed simulation party-game for \\$18\n",
    "\n",
    "#### Designs to avoid:\n",
    " - Don't try to market a customizable children's game in both the 'ancient' and 'fighting' categories, involving a stock-trading mechanic\n",
    "  - Please don't. Any any price.\n",
    " - A thematic children's trivia game that includes dice, voting, and negotiation - for the suggested price of \\$5\n",
    " \n",
    " \n",
    " \n"
   ]
  },
  {
   "cell_type": "markdown",
   "metadata": {},
   "source": [
    "## Conclusion"
   ]
  },
  {
   "cell_type": "markdown",
   "metadata": {},
   "source": [
    "1. I was able to produce a model that achieved a higher Pearson correlation when stacking learners than I was from any learner individually.\n",
    "\n",
    "1. I was able to surpass the intended threshold of a model whose predictions correlate with those of humans at a value of 0.8 or better.\n",
    "\n",
    "1. In attempting to train the model with more data, but two fewer features, the model produced fared worse than the original, leading me to the conclusion that the price features have power when predicting the rating of an individual board game."
   ]
  },
  {
   "cell_type": "markdown",
   "metadata": {},
   "source": [
    "## Illustrative Plots for the Paper"
   ]
  },
  {
   "cell_type": "markdown",
   "metadata": {},
   "source": [
    "### Correlation Coefficients"
   ]
  },
  {
   "cell_type": "code",
   "execution_count": null,
   "metadata": {
    "collapsed": false
   },
   "outputs": [],
   "source": [
    "# Settings that apply to all plots\n",
    "f, (neg, zero, pos) = plt.subplots(1, 3, figsize=(12, 4))\n",
    "plots = [\n",
    "    (neg,  [[.03, -.03], [.001, .001]]),  # Negative correlation\n",
    "    (zero, [[.05, 0],    [0, .05]]),      # Random (near-zero) correlation\n",
    "    (pos,  [[.03, .03],  [-.001, .001]])] # Positive correlation\n",
    "for (subplot, covariance) in (plots):\n",
    "    # Distributions centered around the midpoint between 0 and 1\n",
    "    mean = [0.5, 0.5]\n",
    "    x, y = np.random.multivariate_normal(mean, covariance, 300).T\n",
    "    subplot.set_aspect('equal', adjustable='box')\n",
    "    subplot.plot(x, y, 'o')\n",
    "    subplot.set_xlim(0,1)\n",
    "    subplot.set_ylim(0,1)\n",
    "    subplot.axes.get_xaxis().set_ticklabels([])\n",
    "    subplot.axes.get_yaxis().set_ticklabels([])\n",
    "    subplot.set_title(\"R = {0:.1f}\".format(pearsonr(x, y)[0]))\n",
    "#Show them all\n",
    "plt.show()"
   ]
  },
  {
   "cell_type": "markdown",
   "metadata": {},
   "source": [
    "### Comparative Model Performance"
   ]
  },
  {
   "cell_type": "code",
   "execution_count": null,
   "metadata": {
    "collapsed": false
   },
   "outputs": [],
   "source": [
    "# Provide meaningful column names\n",
    "performance=performance.rename(columns={0:'Estimator',\n",
    "                                        1:'Mean Squared Error',\n",
    "                                        2:'Pearson Correlation'})\n",
    "# Sort by correlation (ascending)\n",
    "performance = performance.sort('Pearson Correlation')\n",
    "print(performance)"
   ]
  },
  {
   "cell_type": "code",
   "execution_count": null,
   "metadata": {
    "collapsed": false
   },
   "outputs": [],
   "source": [
    "index = np.arange(5)\n",
    "bar_width = 0.4\n",
    "opacity = 0.4\n",
    "plt.figure(figsize=(6,6))\n",
    "\n",
    "bars1 = plt.bar(index, performance['Mean Squared Error'], bar_width,\n",
    "                 alpha=opacity,\n",
    "                 color='b',\n",
    "                 label='Mean-Squared Error')\n",
    "\n",
    "bars2 = plt.bar(index + bar_width, performance['Pearson Correlation'], bar_width,\n",
    "                 alpha=opacity,\n",
    "                 color='g',\n",
    "                 label='Correlation')\n",
    "\n",
    "plt.xlabel('Estimator')\n",
    "plt.ylabel('Metric Value')\n",
    "plt.title('Comparative Model Performance\\nMSE and Correlation', y=1.05)\n",
    "plt.ylim(0.2,1)\n",
    "plt.xticks(index + bar_width, ('KNN', 'SVR', 'RF', 'GBR', 'Stacker'))\n",
    "plt.legend()\n",
    "plt.show()"
   ]
  }
 ],
 "metadata": {
  "kernelspec": {
   "display_name": "Python 2",
   "language": "python",
   "name": "python2"
  },
  "language_info": {
   "codemirror_mode": {
    "name": "ipython",
    "version": 2
   },
   "file_extension": ".py",
   "mimetype": "text/x-python",
   "name": "python",
   "nbconvert_exporter": "python",
   "pygments_lexer": "ipython2",
   "version": "2.7.6"
  }
 },
 "nbformat": 4,
 "nbformat_minor": 0
}
