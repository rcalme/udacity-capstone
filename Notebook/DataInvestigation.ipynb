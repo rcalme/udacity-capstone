{
 "cells": [
  {
   "cell_type": "markdown",
   "metadata": {},
   "source": [
    "# Building a Better Board Game"
   ]
  },
  {
   "cell_type": "markdown",
   "metadata": {},
   "source": [
    "### Import Libraries"
   ]
  },
  {
   "cell_type": "code",
   "execution_count": 1,
   "metadata": {
    "collapsed": false
   },
   "outputs": [
    {
     "name": "stdout",
     "output_type": "stream",
     "text": [
      "Matplotlib version 1.5.1 is installed.\n"
     ]
    },
    {
     "name": "stderr",
     "output_type": "stream",
     "text": [
      "/usr/local/lib/python2.7/dist-packages/matplotlib/font_manager.py:273: UserWarning: Matplotlib is building the font cache using fc-list. This may take a moment.\n",
      "  warnings.warn('Matplotlib is building the font cache using fc-list. This may take a moment.')\n"
     ]
    }
   ],
   "source": [
    "import numpy as np\n",
    "import pandas as pd\n",
    "\n",
    "%matplotlib inline\n",
    "import matplotlib.pyplot as plt\n",
    "import matplotlib\n",
    "print(\"Matplotlib version {} is installed.\").format(matplotlib.__version__)\n",
    "# Style 'ggplot' makes prettier plots.\n",
    "# (plt.style isn't supported before matplotlib v1.4)\n",
    "# Comment the following line, and this notebook will\n",
    "# still run on matplotlib <1.4, but with default plot styling.\n",
    "plt.style.use('ggplot')"
   ]
  },
  {
   "cell_type": "markdown",
   "metadata": {},
   "source": [
    "## Data Exploration / Data Preprocessing"
   ]
  },
  {
   "cell_type": "markdown",
   "metadata": {},
   "source": [
    "Read all of our data in as a pandas data frame"
   ]
  },
  {
   "cell_type": "code",
   "execution_count": 2,
   "metadata": {
    "collapsed": false
   },
   "outputs": [],
   "source": [
    "allData = pd.read_csv(\"../Data/CSV/games.csv\")"
   ]
  },
  {
   "cell_type": "markdown",
   "metadata": {},
   "source": [
    "How many observations (games) are in our set?"
   ]
  },
  {
   "cell_type": "code",
   "execution_count": 3,
   "metadata": {
    "collapsed": false
   },
   "outputs": [
    {
     "name": "stdout",
     "output_type": "stream",
     "text": [
      "The data set contains 84593 games.\n"
     ]
    }
   ],
   "source": [
    "print(\"The data set contains {} games.\").format(len(allData))"
   ]
  },
  {
   "cell_type": "markdown",
   "metadata": {},
   "source": [
    "Get an idea of the range of values for each feature in the data"
   ]
  },
  {
   "cell_type": "code",
   "execution_count": 4,
   "metadata": {
    "collapsed": false
   },
   "outputs": [
    {
     "name": "stderr",
     "output_type": "stream",
     "text": [
      "/usr/lib/python2.7/dist-packages/pandas/compat/scipy.py:68: VisibleDeprecationWarning: using a non-integer number instead of an integer will result in an error in the future\n",
      "  score = values[idx]\n"
     ]
    },
    {
     "data": {
      "text/html": [
       "<div style=\"max-height:1000px;max-width:1500px;overflow:auto;\">\n",
       "<table border=\"1\" class=\"dataframe\">\n",
       "  <thead>\n",
       "    <tr style=\"text-align: right;\">\n",
       "      <th></th>\n",
       "      <th>id</th>\n",
       "      <th>year</th>\n",
       "      <th>ratingScore</th>\n",
       "      <th>ratingCount</th>\n",
       "      <th>ratingStdDev</th>\n",
       "      <th>weightAvg</th>\n",
       "      <th>weightLightPct</th>\n",
       "      <th>weightMediumLightPct</th>\n",
       "      <th>weightMediumPct</th>\n",
       "      <th>weightMediumHeavyPct</th>\n",
       "      <th>weightHeavyPct</th>\n",
       "      <th>playerAgeMin</th>\n",
       "      <th>playtimeMin</th>\n",
       "      <th>playtimeMax</th>\n",
       "      <th>playersStatedMin</th>\n",
       "      <th>playersStatedMax</th>\n",
       "      <th>playersBestMin</th>\n",
       "      <th>playersBestMax</th>\n",
       "      <th>priceAverage</th>\n",
       "      <th>priceStdDev</th>\n",
       "      <th></th>\n",
       "    </tr>\n",
       "  </thead>\n",
       "  <tbody>\n",
       "    <tr>\n",
       "      <th>count</th>\n",
       "      <td>  84593.000000</td>\n",
       "      <td> 84593.000000</td>\n",
       "      <td> 84593.000000</td>\n",
       "      <td> 84593.000000</td>\n",
       "      <td> 84593.000000</td>\n",
       "      <td> 84593.000000</td>\n",
       "      <td> 71714.000000</td>\n",
       "      <td> 71714.000000</td>\n",
       "      <td> 71714.000000</td>\n",
       "      <td> 71714.000000</td>\n",
       "      <td> 71714.000000</td>\n",
       "      <td> 84593.000000</td>\n",
       "      <td> 84593.000000</td>\n",
       "      <td> 84593.000000</td>\n",
       "      <td> 84593.00000</td>\n",
       "      <td> 84593.000000</td>\n",
       "      <td> 84593.000000</td>\n",
       "      <td> 84593.000000</td>\n",
       "      <td> 19461.000000</td>\n",
       "      <td> 19461.000000</td>\n",
       "      <td>...</td>\n",
       "    </tr>\n",
       "    <tr>\n",
       "      <th>mean</th>\n",
       "      <td>  80013.233152</td>\n",
       "      <td>  1807.385008</td>\n",
       "      <td>     4.279174</td>\n",
       "      <td>   110.736988</td>\n",
       "      <td>     0.774242</td>\n",
       "      <td>     0.876848</td>\n",
       "      <td>    19.957703</td>\n",
       "      <td>    16.550744</td>\n",
       "      <td>    10.183793</td>\n",
       "      <td>     3.200719</td>\n",
       "      <td>     1.401069</td>\n",
       "      <td>     7.019162</td>\n",
       "      <td>    47.198243</td>\n",
       "      <td>    51.168395</td>\n",
       "      <td>     1.98825</td>\n",
       "      <td>     5.682491</td>\n",
       "      <td>     2.219664</td>\n",
       "      <td>     5.263934</td>\n",
       "      <td>    24.716603</td>\n",
       "      <td>     7.954304</td>\n",
       "      <td>...</td>\n",
       "    </tr>\n",
       "    <tr>\n",
       "      <th>std</th>\n",
       "      <td>  63960.226532</td>\n",
       "      <td>   588.475029</td>\n",
       "      <td>     3.039157</td>\n",
       "      <td>   929.482652</td>\n",
       "      <td>     0.814887</td>\n",
       "      <td>     1.160127</td>\n",
       "      <td>    35.385330</td>\n",
       "      <td>    29.738281</td>\n",
       "      <td>    23.392949</td>\n",
       "      <td>    12.743502</td>\n",
       "      <td>     8.428136</td>\n",
       "      <td>     6.808049</td>\n",
       "      <td>   327.225953</td>\n",
       "      <td>   341.891784</td>\n",
       "      <td>     0.92677</td>\n",
       "      <td>    55.144456</td>\n",
       "      <td>     1.210552</td>\n",
       "      <td>    54.600688</td>\n",
       "      <td>    33.740133</td>\n",
       "      <td>    16.690697</td>\n",
       "      <td>...</td>\n",
       "    </tr>\n",
       "    <tr>\n",
       "      <th>min</th>\n",
       "      <td>      1.000000</td>\n",
       "      <td> -3500.000000</td>\n",
       "      <td>     0.000000</td>\n",
       "      <td>     0.000000</td>\n",
       "      <td>     0.000000</td>\n",
       "      <td>     0.000000</td>\n",
       "      <td>     0.000000</td>\n",
       "      <td>     0.000000</td>\n",
       "      <td>     0.000000</td>\n",
       "      <td>     0.000000</td>\n",
       "      <td>     0.000000</td>\n",
       "      <td>     0.000000</td>\n",
       "      <td>     0.000000</td>\n",
       "      <td>     0.000000</td>\n",
       "      <td>     0.00000</td>\n",
       "      <td>     0.000000</td>\n",
       "      <td>     0.000000</td>\n",
       "      <td>     0.000000</td>\n",
       "      <td>     0.010000</td>\n",
       "      <td>     0.000000</td>\n",
       "      <td>...</td>\n",
       "    </tr>\n",
       "    <tr>\n",
       "      <th>25%</th>\n",
       "      <td>  23001.000000</td>\n",
       "      <td>  1985.000000</td>\n",
       "      <td>     0.000000</td>\n",
       "      <td>     0.000000</td>\n",
       "      <td>     0.000000</td>\n",
       "      <td>     0.000000</td>\n",
       "      <td>     0.000000</td>\n",
       "      <td>     0.000000</td>\n",
       "      <td>     0.000000</td>\n",
       "      <td>     0.000000</td>\n",
       "      <td>     0.000000</td>\n",
       "      <td>     0.000000</td>\n",
       "      <td>     6.000000</td>\n",
       "      <td>     5.000000</td>\n",
       "      <td>     2.00000</td>\n",
       "      <td>     2.000000</td>\n",
       "      <td>     2.000000</td>\n",
       "      <td>     2.000000</td>\n",
       "      <td>     9.950000</td>\n",
       "      <td>     0.000000</td>\n",
       "      <td>...</td>\n",
       "    </tr>\n",
       "    <tr>\n",
       "      <th>50%</th>\n",
       "      <td>  60049.000000</td>\n",
       "      <td>  2004.000000</td>\n",
       "      <td>     5.333330</td>\n",
       "      <td>     2.000000</td>\n",
       "      <td>     0.695211</td>\n",
       "      <td>     0.000000</td>\n",
       "      <td>     0.000000</td>\n",
       "      <td>     0.000000</td>\n",
       "      <td>     0.000000</td>\n",
       "      <td>     0.000000</td>\n",
       "      <td>     0.000000</td>\n",
       "      <td>     8.000000</td>\n",
       "      <td>    30.000000</td>\n",
       "      <td>    30.000000</td>\n",
       "      <td>     2.00000</td>\n",
       "      <td>     4.000000</td>\n",
       "      <td>     2.000000</td>\n",
       "      <td>     4.000000</td>\n",
       "      <td>    16.663333</td>\n",
       "      <td>     3.925003</td>\n",
       "      <td>...</td>\n",
       "    </tr>\n",
       "    <tr>\n",
       "      <th>75%</th>\n",
       "      <td> 139950.000000</td>\n",
       "      <td>  2011.000000</td>\n",
       "      <td>     6.716100</td>\n",
       "      <td>    15.000000</td>\n",
       "      <td>     1.419710</td>\n",
       "      <td>     1.785700</td>\n",
       "      <td>    25.000000</td>\n",
       "      <td>    25.000000</td>\n",
       "      <td>     0.000000</td>\n",
       "      <td>     0.000000</td>\n",
       "      <td>     0.000000</td>\n",
       "      <td>    12.000000</td>\n",
       "      <td>    60.000000</td>\n",
       "      <td>    60.000000</td>\n",
       "      <td>     2.00000</td>\n",
       "      <td>     6.000000</td>\n",
       "      <td>     2.000000</td>\n",
       "      <td>     6.000000</td>\n",
       "      <td>    29.084300</td>\n",
       "      <td>     9.479418</td>\n",
       "      <td>...</td>\n",
       "    </tr>\n",
       "    <tr>\n",
       "      <th>max</th>\n",
       "      <td> 202858.000000</td>\n",
       "      <td>  2018.000000</td>\n",
       "      <td>    10.000000</td>\n",
       "      <td> 59423.000000</td>\n",
       "      <td>     4.500000</td>\n",
       "      <td>     5.000000</td>\n",
       "      <td>   100.000000</td>\n",
       "      <td>   100.000000</td>\n",
       "      <td>   100.000000</td>\n",
       "      <td>   100.000000</td>\n",
       "      <td>   100.000000</td>\n",
       "      <td>  1333.000000</td>\n",
       "      <td> 60120.000000</td>\n",
       "      <td> 60120.000000</td>\n",
       "      <td>    99.00000</td>\n",
       "      <td> 11299.000000</td>\n",
       "      <td>    99.000000</td>\n",
       "      <td> 11299.000000</td>\n",
       "      <td>  1300.000000</td>\n",
       "      <td>   581.085046</td>\n",
       "      <td>...</td>\n",
       "    </tr>\n",
       "  </tbody>\n",
       "</table>\n",
       "<p>8 rows × 163 columns</p>\n",
       "</div>"
      ],
      "text/plain": [
       "                  id          year   ratingScore   ratingCount  ratingStdDev  \\\n",
       "count   84593.000000  84593.000000  84593.000000  84593.000000  84593.000000   \n",
       "mean    80013.233152   1807.385008      4.279174    110.736988      0.774242   \n",
       "std     63960.226532    588.475029      3.039157    929.482652      0.814887   \n",
       "min         1.000000  -3500.000000      0.000000      0.000000      0.000000   \n",
       "25%     23001.000000   1985.000000      0.000000      0.000000      0.000000   \n",
       "50%     60049.000000   2004.000000      5.333330      2.000000      0.695211   \n",
       "75%    139950.000000   2011.000000      6.716100     15.000000      1.419710   \n",
       "max    202858.000000   2018.000000     10.000000  59423.000000      4.500000   \n",
       "\n",
       "          weightAvg  weightLightPct  weightMediumLightPct  weightMediumPct  \\\n",
       "count  84593.000000    71714.000000          71714.000000     71714.000000   \n",
       "mean       0.876848       19.957703             16.550744        10.183793   \n",
       "std        1.160127       35.385330             29.738281        23.392949   \n",
       "min        0.000000        0.000000              0.000000         0.000000   \n",
       "25%        0.000000        0.000000              0.000000         0.000000   \n",
       "50%        0.000000        0.000000              0.000000         0.000000   \n",
       "75%        1.785700       25.000000             25.000000         0.000000   \n",
       "max        5.000000      100.000000            100.000000       100.000000   \n",
       "\n",
       "       weightMediumHeavyPct  weightHeavyPct  playerAgeMin   playtimeMin  \\\n",
       "count          71714.000000    71714.000000  84593.000000  84593.000000   \n",
       "mean               3.200719        1.401069      7.019162     47.198243   \n",
       "std               12.743502        8.428136      6.808049    327.225953   \n",
       "min                0.000000        0.000000      0.000000      0.000000   \n",
       "25%                0.000000        0.000000      0.000000      6.000000   \n",
       "50%                0.000000        0.000000      8.000000     30.000000   \n",
       "75%                0.000000        0.000000     12.000000     60.000000   \n",
       "max              100.000000      100.000000   1333.000000  60120.000000   \n",
       "\n",
       "        playtimeMax  playersStatedMin  playersStatedMax  playersBestMin  \\\n",
       "count  84593.000000       84593.00000      84593.000000    84593.000000   \n",
       "mean      51.168395           1.98825          5.682491        2.219664   \n",
       "std      341.891784           0.92677         55.144456        1.210552   \n",
       "min        0.000000           0.00000          0.000000        0.000000   \n",
       "25%        5.000000           2.00000          2.000000        2.000000   \n",
       "50%       30.000000           2.00000          4.000000        2.000000   \n",
       "75%       60.000000           2.00000          6.000000        2.000000   \n",
       "max    60120.000000          99.00000      11299.000000       99.000000   \n",
       "\n",
       "       playersBestMax  priceAverage   priceStdDev      \n",
       "count    84593.000000  19461.000000  19461.000000 ...  \n",
       "mean         5.263934     24.716603      7.954304 ...  \n",
       "std         54.600688     33.740133     16.690697 ...  \n",
       "min          0.000000      0.010000      0.000000 ...  \n",
       "25%          2.000000      9.950000      0.000000 ...  \n",
       "50%          4.000000     16.663333      3.925003 ...  \n",
       "75%          6.000000     29.084300      9.479418 ...  \n",
       "max      11299.000000   1300.000000    581.085046 ...  \n",
       "\n",
       "[8 rows x 163 columns]"
      ]
     },
     "execution_count": 4,
     "metadata": {},
     "output_type": "execute_result"
    }
   ],
   "source": [
    "allData.describe()"
   ]
  },
  {
   "cell_type": "markdown",
   "metadata": {},
   "source": [
    "It seems that most features have values for most games, with the exception of priceAverage and priceStdDev"
   ]
  },
  {
   "cell_type": "code",
   "execution_count": 5,
   "metadata": {
    "collapsed": false
   },
   "outputs": [
    {
     "name": "stdout",
     "output_type": "stream",
     "text": [
      "23.005% of games have a value for the 'priceAverage' feature.\n"
     ]
    }
   ],
   "source": [
    "feature = \"priceAverage\"\n",
    "percentage = len(allData[feature].dropna())/float(len(allData)) * 100\n",
    "print(\"{:.3f}% of games have a value for the '{}' feature.\").format(percentage, feature)"
   ]
  },
  {
   "cell_type": "markdown",
   "metadata": {},
   "source": [
    "How many games have values for *all* features in the set?"
   ]
  },
  {
   "cell_type": "code",
   "execution_count": 6,
   "metadata": {
    "collapsed": false
   },
   "outputs": [
    {
     "name": "stdout",
     "output_type": "stream",
     "text": [
      "22.573% of games have a values for all features.\n",
      "19095 games remain once filtering out those with null feature values.\n"
     ]
    }
   ],
   "source": [
    "allWithoutNA = allData.dropna()\n",
    "percentage = len(allWithoutNA)/float(len(allData)) * 100\n",
    "print(\"{:.3f}% of games have a values for all features.\").format(percentage, feature)\n",
    "print(\"{} games remain once filtering out those with null feature values.\").format(len(allWithoutNA))"
   ]
  },
  {
   "cell_type": "markdown",
   "metadata": {},
   "source": [
    "Some games have feature values that we might choose to consider as outliers."
   ]
  },
  {
   "cell_type": "code",
   "execution_count": 7,
   "metadata": {
    "collapsed": false
   },
   "outputs": [
    {
     "data": {
      "text/plain": [
       "count    19095.000000\n",
       "mean      1980.718408\n",
       "std        209.432133\n",
       "min      -3500.000000\n",
       "25%       1994.000000\n",
       "50%       2006.000000\n",
       "75%       2012.000000\n",
       "max       2016.000000\n",
       "Name: year, dtype: float64"
      ]
     },
     "execution_count": 7,
     "metadata": {},
     "output_type": "execute_result"
    }
   ],
   "source": [
    "allWithoutNA.year.describe()"
   ]
  },
  {
   "cell_type": "markdown",
   "metadata": {},
   "source": [
    "As you can see above, some games were published as early as 3500 B.C.\n",
    "Perhaps we should limit the year of publication to exclude ancient Egyptian games."
   ]
  },
  {
   "cell_type": "code",
   "execution_count": 8,
   "metadata": {
    "collapsed": false
   },
   "outputs": [
    {
     "name": "stdout",
     "output_type": "stream",
     "text": [
      "18799 games remain once filtering out those published prior to 1950.\n"
     ]
    }
   ],
   "source": [
    "since1950 = allWithoutNA.query(\"year >= 1950\")\n",
    "print(\"{} games remain once filtering out those published prior to 1950.\").format(len(since1950))"
   ]
  },
  {
   "cell_type": "markdown",
   "metadata": {},
   "source": [
    "Ratings are crowd-sourced. Ratings may be less reliable if there were too few people contributing to the rating.\n",
    "\n",
    "How many games have at least three votes cast toward their rating?"
   ]
  },
  {
   "cell_type": "code",
   "execution_count": 9,
   "metadata": {
    "collapsed": false
   },
   "outputs": [
    {
     "name": "stdout",
     "output_type": "stream",
     "text": [
      "18141 games remain once filtering out those rated by fewer than 3 people\n"
     ]
    }
   ],
   "source": [
    "atLeastThreeRaters = since1950.query(\"ratingCount > 2\")\n",
    "print(\"{} games remain once filtering out those rated by fewer than 3 people\").format(len(atLeastThreeRaters))"
   ]
  },
  {
   "cell_type": "markdown",
   "metadata": {},
   "source": [
    "Our target variable is going to be 'ratingScore'.\n",
    "\n",
    "Let's see how the ratingScore value is distributed."
   ]
  },
  {
   "cell_type": "code",
   "execution_count": 10,
   "metadata": {
    "collapsed": false
   },
   "outputs": [
    {
     "data": {
      "text/plain": [
       "count    18141.000000\n",
       "mean         6.496881\n",
       "std          1.022268\n",
       "min          1.000000\n",
       "25%          5.857140\n",
       "50%          6.546350\n",
       "75%          7.217780\n",
       "max         10.000000\n",
       "Name: ratingScore, dtype: float64"
      ]
     },
     "execution_count": 10,
     "metadata": {},
     "output_type": "execute_result"
    }
   ],
   "source": [
    "df = atLeastThreeRaters\n",
    "df.ratingScore.describe()"
   ]
  },
  {
   "cell_type": "markdown",
   "metadata": {},
   "source": [
    "It seems as if 1.0 is the minimum allowable score, and 10.0 is the max.\n",
    "\n",
    "A histogram will probably help us see how these ratings are distributed."
   ]
  },
  {
   "cell_type": "markdown",
   "metadata": {},
   "source": [
    "## Exploratory Visualization"
   ]
  },
  {
   "cell_type": "code",
   "execution_count": 11,
   "metadata": {
    "collapsed": false,
    "scrolled": true
   },
   "outputs": [
    {
     "data": {
      "image/png": "[encoded data removed]",
      "text/plain": [
       "<matplotlib.figure.Figure at 0x7f130eb520d0>"
      ]
     },
     "metadata": {},
     "output_type": "display_data"
    }
   ],
   "source": [
    "plt.figure(figsize=(10,6))\n",
    "plt.hist(df.ratingScore, 100)\n",
    "plt.xlim(xmin=1, xmax=10)\n",
    "plt.xlabel(\"Rating\")\n",
    "plt.ylabel(\"Frequency\")\n",
    "plt.title(\"Histogram of Game Ratings\")\n",
    "plt.show()"
   ]
  },
  {
   "cell_type": "markdown",
   "metadata": {},
   "source": [
    "Well, that looks like a skewed Gaussian distribution. Ratings of 1.0 and 10.0 are quite uncommon.\n",
    "\n",
    "The mean of our subset of the data is shifted toward higher ratings."
   ]
  },
  {
   "cell_type": "code",
   "execution_count": 12,
   "metadata": {
    "collapsed": false
   },
   "outputs": [
    {
     "name": "stdout",
     "output_type": "stream",
     "text": [
      "The mean rating for our subset of games is 6.497.\n"
     ]
    }
   ],
   "source": [
    "print \"The mean rating for our subset of games is {:.3f}.\".format(np.mean(df.ratingScore))"
   ]
  },
  {
   "cell_type": "markdown",
   "metadata": {},
   "source": [
    "Now let's separate the columns that we intend to use as features from that which is the target."
   ]
  },
  {
   "cell_type": "code",
   "execution_count": 13,
   "metadata": {
    "collapsed": false
   },
   "outputs": [],
   "source": [
    "# Why are we excluding features?\n",
    "# 'id' holds no predictive value\n",
    "# 'name', and 'url' are strings, and cannot be features in their current form\n",
    "# 'ratingCount' and 'ratingStdDev' will likely be unavailable features during prediction\n",
    "# 'ratingScore' is the target variable, and should not be used to train a model\n",
    "excluded = [\"id\", \"name\", \"url\", \"ratingScore\", \"ratingCount\", \"ratingStdDev\"]\n",
    "feature_cols = [col for col in df.columns if col not in excluded]\n",
    "\n",
    "# This is our target\n",
    "target_col = \"ratingScore\"\n",
    "\n",
    "# Create an n*m data frame where n is the number of games, and m is the number of features\n",
    "X_all = df[feature_cols]\n",
    "# Create an n*1 data frame where n is the number of games, each with the single target feature\n",
    "y_all = df[target_col]"
   ]
  },
  {
   "cell_type": "markdown",
   "metadata": {},
   "source": [
    "## Implementation"
   ]
  },
  {
   "cell_type": "markdown",
   "metadata": {},
   "source": [
    "We need to split this data into (at least) two portions.\n",
    "* A training set - 80% of total\n",
    " * 70% of which will be 10-fold cross-validated when fed to child regressors.\n",
    " * 30% of which will be 10-fold cross-validated when fed to parent stacker.\n",
    "* A held-out test (or validation) set - 20% of total"
   ]
  },
  {
   "cell_type": "code",
   "execution_count": 14,
   "metadata": {
    "collapsed": false
   },
   "outputs": [
    {
     "name": "stdout",
     "output_type": "stream",
     "text": [
      "Cross-validated Training set includes 14512 samples\n",
      "Holdout/Validation set includes       3629 samples\n"
     ]
    }
   ],
   "source": [
    "# Select features (X) and corresponding labels (y) for the trainingCV and holdout sets\n",
    "# train_test_split() shuffles data randomly. We will set the random state for consistency\n",
    "from sklearn.cross_validation import train_test_split\n",
    "# X/y_train are 80% of data, for use in training/testing models.\n",
    "# X/y_holdout are 20% of data, for use in proving model performance at the end.\n",
    "X_train, X_holdout, y_train, y_holdout = train_test_split(\n",
    "    np.array(X_all), np.array(y_all),\n",
    "    train_size=0.8,\n",
    "    random_state=12)\n",
    "\n",
    "from sklearn.cross_validation import KFold\n",
    "# We will split X_train into train and test 10 times via KFold\n",
    "kf = KFold(len(X_train), n_folds=10, shuffle=True, random_state=12)\n",
    "\n",
    "print \"Cross-validated Training set includes {} samples\".format(len(X_train))\n",
    "print \"Holdout/Validation set includes       {} samples\".format(len(X_holdout))"
   ]
  },
  {
   "cell_type": "markdown",
   "metadata": {},
   "source": [
    "With random sampling, we would anticipate the histogram of the target variable in the training and test sets to be similarly distributed."
   ]
  },
  {
   "cell_type": "code",
   "execution_count": 15,
   "metadata": {
    "collapsed": false
   },
   "outputs": [
    {
     "data": {
      "image/png": "[encoded data removed]",
      "text/plain": [
       "<matplotlib.figure.Figure at 0x7f130ea4cc90>"
      ]
     },
     "metadata": {},
     "output_type": "display_data"
    }
   ],
   "source": [
    "plt.figure(figsize=(10,6))\n",
    "plt.hist(y_train, 100, label=\"Train/Test\")\n",
    "plt.hist(y_holdout, 100, label=\"Holdout\")\n",
    "plt.legend(loc='upper right')\n",
    "plt.xlim(xmin=1, xmax=10)\n",
    "plt.xlabel(\"Rating\")\n",
    "plt.ylabel(\"Frequency\")\n",
    "plt.title(\"Histogram of Game Ratings\")\n",
    "plt.show()"
   ]
  },
  {
   "cell_type": "code",
   "execution_count": 16,
   "metadata": {
    "collapsed": false
   },
   "outputs": [],
   "source": [
    "# Helper functions to train and predict\n",
    "import time\n",
    "from sklearn.metrics import make_scorer, mean_squared_error\n",
    "from scipy.stats import pearsonr\n",
    "from sklearn.grid_search import GridSearchCV\n",
    "\n",
    "def train(learner, X_train, y_train):\n",
    "    print \"Training {}...\".format(learner.__class__.__name__)\n",
    "    start = time.time()\n",
    "    learner.fit(X_train, y_train)\n",
    "    end = time.time()\n",
    "    print \"Done.\\nTraining time (secs): {:.3f}\".format(end - start)\n",
    "    \n",
    "def predict(learner, features):\n",
    "    print \"Predicting target using {}...\".format(learner.__class__.__name__)\n",
    "    start = time.time()\n",
    "    y_pred = learner.predict(features)\n",
    "    end = time.time()\n",
    "    print \"Done.\\nPrediction time (secs): {:.3f}\".format(end - start)\n",
    "    return pd.Series(y_pred)"
   ]
  },
  {
   "cell_type": "markdown",
   "metadata": {},
   "source": [
    "### Random Forest regressor\n",
    "\n",
    "We'll use GridSearchCV to learn what the best choices for parameters might be."
   ]
  },
  {
   "cell_type": "code",
   "execution_count": 19,
   "metadata": {
    "collapsed": false
   },
   "outputs": [],
   "source": [
    "# Random Forest is a tree-based learner.\n",
    "from sklearn.ensemble import RandomForestRegressor\n",
    "random_forest_reg = RandomForestRegressor(\n",
    "    n_estimators=2000,\n",
    "    oob_score=True,\n",
    "    random_state=12)\n",
    "# We'll mess with some parameters in our grid search.\n",
    "# A smart choice for max_features is sqrt(num_features).\n",
    "# For our 159 features, that would be 12.6, so I'm starting in that range.\n",
    "parameters = {\n",
    "    'max_features': np.arange(10,150,10),\n",
    "    'min_samples_split': np.arange(2,11,1)\n",
    "}\n",
    "# We'll use MSE as our function to determine the winner in the grid search\n",
    "mse_scorer = make_scorer(mean_squared_error, greater_is_better=False)\n",
    "# Set up the grid search, using \"base\" data in 10 folds\n",
    "rf_grid = GridSearchCV(random_forest_reg, parameters, scoring=mse_scorer, cv=kf, n_jobs=3)"
   ]
  },
  {
   "cell_type": "code",
   "execution_count": 20,
   "metadata": {
    "collapsed": false
   },
   "outputs": [
    {
     "name": "stdout",
     "output_type": "stream",
     "text": [
      "Training GridSearchCV...\n",
      "Done.\n",
      "Training time (secs): 97681.835\n"
     ]
    }
   ],
   "source": [
    "# Fit model to training data - this will take a while.\n",
    "train(rf_grid, X_train, y_train)"
   ]
  },
  {
   "cell_type": "markdown",
   "metadata": {},
   "source": [
    "What were the best values for the hyper-parameter(s) within our grid?"
   ]
  },
  {
   "cell_type": "code",
   "execution_count": 21,
   "metadata": {
    "collapsed": false,
    "scrolled": true
   },
   "outputs": [
    {
     "name": "stdout",
     "output_type": "stream",
     "text": [
      "Best model: RandomForestRegressor(bootstrap=True, criterion='mse', max_depth=None,\n",
      "           max_features=40, max_leaf_nodes=None, min_samples_leaf=1,\n",
      "           min_samples_split=2, min_weight_fraction_leaf=0.0,\n",
      "           n_estimators=2000, n_jobs=1, oob_score=True, random_state=12,\n",
      "           verbose=0, warm_start=False)\n"
     ]
    }
   ],
   "source": [
    "# Let's print which parameter(s) were chosen as the best in the grid\n",
    "print \"Best model: {}\".format(rf_grid.best_estimator_)"
   ]
  },
  {
   "cell_type": "markdown",
   "metadata": {},
   "source": [
    "It might help to visualize the value from the scorer function across the parameter grid."
   ]
  },
  {
   "cell_type": "code",
   "execution_count": 23,
   "metadata": {
    "collapsed": false
   },
   "outputs": [
    {
     "data": {
      "image/png": "[encoded data removed]",
      "text/plain": [
       "<matplotlib.figure.Figure at 0x7f12eb41a110>"
      ]
     },
     "metadata": {},
     "output_type": "display_data"
    }
   ],
   "source": [
    "# Subset the grid_scores_ list to isolate one dependent variable\n",
    "f, (max_features, min_samples_split) = plt.subplots(1, 2, figsize=(12, 3))\n",
    "\n",
    "# First plot 'max_features'\n",
    "models = zip(*[(abs(mean), std, p['max_features']) \n",
    "    for p, mean, std in [x for x in rf_grid.grid_scores_ if x[0]['min_samples_split'] == 3]])\n",
    "max_features.plot(models[2],models[0],'o-')\n",
    "max_features.set_title(\"Effect of 'max_features' on MSE of Model\", y=1.05)\n",
    "max_features.set_xlabel(\"max_features\")\n",
    "max_features.set_ylabel(\"MSE\")\n",
    "\n",
    "# then plot 'min_samples_split'\n",
    "models = zip(*[(abs(mean), std, p['min_samples_split']) \n",
    "    for p, mean, std in [x for x in rf_grid.grid_scores_ if x[0]['max_features'] == 40]])\n",
    "min_samples_split.plot(models[2],models[0],'o-')\n",
    "min_samples_split.set_title(\"Effect of 'min_samples_split' on MSE of Model\", y=1.05)\n",
    "min_samples_split.set_xlabel(\"min_samples_split\")\n",
    "min_samples_split.set_ylabel(\"MSE\")\n",
    "f.tight_layout(h_pad=10.05)\n",
    "f.show()"
   ]
  },
  {
   "cell_type": "markdown",
   "metadata": {},
   "source": [
    "* 'max_features' seems to produce a models with the lowest mean squared error between 20 and 40 features.\n",
    "* 'min_samples_split' clearly seems to perform best just above its default value of 2."
   ]
  },
  {
   "cell_type": "markdown",
   "metadata": {},
   "source": [
    "Get Random Forest predictions on all the training data now that we've determined good parameter values."
   ]
  },
  {
   "cell_type": "code",
   "execution_count": 24,
   "metadata": {
    "collapsed": false
   },
   "outputs": [
    {
     "name": "stdout",
     "output_type": "stream",
     "text": [
      "Mean Squared Error:  0.402786195704\n",
      "Pearson Correlation: 0.784276179644\n"
     ]
    }
   ],
   "source": [
    "from sklearn.cross_validation import cross_val_predict\n",
    "# Set the best parameters as our choices for this run.\n",
    "random_forest_reg.set_params(**rf_grid.best_params_)\n",
    "# Compute predictions on the entire set by collecting the predictions on the held-out set from each fold\n",
    "y_rf_pred = cross_val_predict(random_forest_reg, X_train, y_train)\n",
    "print \"Mean Squared Error:  {}\".format(mean_squared_error(y_train, y_rf_pred))\n",
    "print \"Pearson Correlation: {}\".format(pearsonr(y_train, y_rf_pred)[0])"
   ]
  },
  {
   "cell_type": "markdown",
   "metadata": {},
   "source": [
    "Then let's visualize the actual vs predicted ratingScore, to see how close to the diagonal they are."
   ]
  },
  {
   "cell_type": "code",
   "execution_count": 25,
   "metadata": {
    "collapsed": false
   },
   "outputs": [
    {
     "data": {
      "image/png": "[encoded data removed]",
      "text/plain": [
       "<matplotlib.figure.Figure at 0x7f12e2f551d0>"
      ]
     },
     "metadata": {},
     "output_type": "display_data"
    }
   ],
   "source": [
    "plt.figure(figsize=(6,6))\n",
    "plt.plot(y_train, y_rf_pred, 'o')\n",
    "plt.plot([1, 10], [1, 10], 'k--')\n",
    "plt.xlabel(\"Actual\")\n",
    "plt.ylabel(\"Predicted\")\n",
    "plt.title(\"Actual vs. Predicted values for ratingScore - Random Forest\", y=1.05)\n",
    "plt.xlim(1, 10)\n",
    "plt.ylim(1, 10)\n",
    "plt.gca().set_aspect('equal', adjustable='box')\n",
    "plt.show()"
   ]
  },
  {
   "cell_type": "markdown",
   "metadata": {},
   "source": [
    "### K-Nearest-Neighbors"
   ]
  },
  {
   "cell_type": "code",
   "execution_count": 30,
   "metadata": {
    "collapsed": false
   },
   "outputs": [
    {
     "name": "stdout",
     "output_type": "stream",
     "text": [
      "Training GridSearchCV...\n",
      "Done.\n",
      "Training time (secs): 3616.213\n"
     ]
    }
   ],
   "source": [
    "from sklearn.neighbors import KNeighborsRegressor\n",
    "k_neighbors_reg = KNeighborsRegressor( weights='distance' )\n",
    "# We'll mess with some parameters in our grid search.\n",
    "# n_neighbors is now many neighbors to consider for each point\n",
    "# leaf_size is passed to BallTree/KDTree\n",
    "parameters = {\n",
    "    'n_neighbors': np.arange(2,32,2),\n",
    "    'leaf_size': np.arange(5,55,5)\n",
    "}\n",
    "# We'll use MSE as our function to determine the winner in the grid search\n",
    "mse_scorer = make_scorer(mean_squared_error, greater_is_better=False)\n",
    "# Set up the grid search, using \"base\" data in 10 folds\n",
    "knn_grid = GridSearchCV(k_neighbors_reg, parameters, scoring=mse_scorer, cv=kf)\n",
    "# Fit model to training data\n",
    "train(knn_grid, X_train, y_train)"
   ]
  },
  {
   "cell_type": "markdown",
   "metadata": {},
   "source": [
    "What were the best values for the hyper-parameter(s) within our grid?"
   ]
  },
  {
   "cell_type": "code",
   "execution_count": 31,
   "metadata": {
    "collapsed": false,
    "scrolled": true
   },
   "outputs": [
    {
     "name": "stdout",
     "output_type": "stream",
     "text": [
      "Best model: KNeighborsRegressor(algorithm='auto', leaf_size=10, metric='minkowski',\n",
      "          metric_params=None, n_jobs=1, n_neighbors=16, p=2,\n",
      "          weights='distance')\n"
     ]
    }
   ],
   "source": [
    "# Let's print which parameter(s) were chosen as the best in the grid\n",
    "print \"Best model: {}\".format(knn_grid.best_estimator_)"
   ]
  },
  {
   "cell_type": "code",
   "execution_count": 32,
   "metadata": {
    "collapsed": false
   },
   "outputs": [
    {
     "data": {
      "image/png": "[encoded data removed]",
      "text/plain": [
       "<matplotlib.figure.Figure at 0x7f12eb3dc910>"
      ]
     },
     "metadata": {},
     "output_type": "display_data"
    }
   ],
   "source": [
    "# Subset the grid_scores_ list to isolate one dependent variable\n",
    "f, (n_neighbors, leaf_size) = plt.subplots(1, 2, figsize=(12, 3))\n",
    "\n",
    "# First plot 'n_neighbors'\n",
    "models = zip(*[(abs(mean), std, p['n_neighbors']) \n",
    "    for p, mean, std in [x for x in knn_grid.grid_scores_ if x[0]['leaf_size'] == 10]])\n",
    "n_neighbors.plot(models[2],models[0],'o-')\n",
    "n_neighbors.set_title(\"Effect of 'n_neighbors' on MSE of Model\", y=1.05)\n",
    "n_neighbors.set_xlabel(\"n_neighbors\")\n",
    "n_neighbors.set_ylabel(\"MSE\")\n",
    "\n",
    "# then plot 'min_samples_split'\n",
    "models = zip(*[(abs(mean), std, p['leaf_size']) \n",
    "    for p, mean, std in [x for x in knn_grid.grid_scores_ if x[0]['n_neighbors'] == 16]])\n",
    "leaf_size.plot(models[2],models[0],'o-')\n",
    "leaf_size.set_title(\"Effect of 'leaf_size' on MSE of Model\", y=1.05)\n",
    "leaf_size.set_xlabel(\"leaf_size\")\n",
    "leaf_size.set_ylabel(\"MSE\")\n",
    "f.tight_layout(h_pad=10.05)\n",
    "f.show()"
   ]
  },
  {
   "cell_type": "markdown",
   "metadata": {},
   "source": [
    "* n_neighbors had an clear impact the resulting model's mean squared error. **16 Seemed to be a good value** (though not by much)\n",
    "* leaf_size had nearly no impact (note the scale). It's probably not a parameter I should have messed with. **I'll use the default of 30 in the future.**"
   ]
  },
  {
   "cell_type": "markdown",
   "metadata": {},
   "source": [
    "Get K Neighbor predictions on all the training data now that we've determined good parameter values."
   ]
  },
  {
   "cell_type": "code",
   "execution_count": 34,
   "metadata": {
    "collapsed": false
   },
   "outputs": [
    {
     "name": "stdout",
     "output_type": "stream",
     "text": [
      "Mean Squared Error:  0.621203101008\n",
      "Pearson Correlation: 0.634370414196\n"
     ]
    }
   ],
   "source": [
    "# Set the best parameters as our choices for this run.\n",
    "k_neighbors_reg.set_params(**knn_grid.best_params_)\n",
    "# Compute predictions on the entire set by collecting the predictions\n",
    "# on the held-out set from each fold\n",
    "y_knn_pred = cross_val_predict(k_neighbors_reg, X_train, y_train)\n",
    "print \"Mean Squared Error:  {}\".format(mean_squared_error(y_train, y_knn_pred))\n",
    "print \"Pearson Correlation: {}\".format(pearsonr(y_train, y_knn_pred)[0])"
   ]
  },
  {
   "cell_type": "code",
   "execution_count": null,
   "metadata": {
    "collapsed": false
   },
   "outputs": [],
   "source": [
    "plt.figure(figsize=(6,6))\n",
    "plt.plot(y_train, y_knn_pred, 'o')\n",
    "plt.plot([1, 10], [1, 10], 'k--')\n",
    "plt.xlabel(\"Actual\")\n",
    "plt.ylabel(\"Predicted\")\n",
    "plt.title(\"Actual vs. Predicted values for ratingScore - KNN\", y=1.05)\n",
    "plt.xlim(1, 10)\n",
    "plt.ylim(1, 10)\n",
    "plt.gca().set_aspect('equal', adjustable='box')\n",
    "plt.show()"
   ]
  },
  {
   "cell_type": "markdown",
   "metadata": {},
   "source": [
    "### Support Vector regressor"
   ]
  },
  {
   "cell_type": "code",
   "execution_count": null,
   "metadata": {
    "collapsed": false
   },
   "outputs": [],
   "source": [
    "# The Support Vector Machine (SVM) as a regression is referred to as SVR.\n",
    "from sklearn.svm import SVR\n",
    "support_vector_reg = SVR()\n",
    "# We'll mess with some parameters in our grid search.\n",
    "# C - Penalty parameter (1/lambda)\n",
    "# epsilon - Allowable error\n",
    "parameters = {\n",
    "    'C':       [0.001, 0.01, 0.1, 1, 10, 100, 1000],\n",
    "    'kernel': ['linear', 'poly', 'rbf']\n",
    "}\n",
    "# Set up the GridSearch with cross-validation\n",
    "svr_grid = GridSearchCV(support_vector_reg, parameters, scoring=mse_scorer, cv=kf, n_jobs=3)"
   ]
  },
  {
   "cell_type": "code",
   "execution_count": null,
   "metadata": {
    "collapsed": false
   },
   "outputs": [],
   "source": [
    "# Fit model to training data\n",
    "train(svr_grid, X_train, y_train)"
   ]
  },
  {
   "cell_type": "markdown",
   "metadata": {},
   "source": [
    "What were the best values for the hyper-parameter(s) within our grid?"
   ]
  },
  {
   "cell_type": "code",
   "execution_count": null,
   "metadata": {
    "collapsed": false,
    "scrolled": true
   },
   "outputs": [],
   "source": [
    "# Let's print which parameter(s) were chosen as the best in the grid\n",
    "print \"Best model: {}\".format(svr_grid.best_estimator_)"
   ]
  },
  {
   "cell_type": "code",
   "execution_count": null,
   "metadata": {
    "collapsed": false
   },
   "outputs": [],
   "source": [
    "# Subset the grid_scores_ list to isolate one dependent variable\n",
    "f, (C, kernel) = plt.subplots(1, 2, figsize=(12, 3))\n",
    "\n",
    "# First plot 'C'\n",
    "models = zip(*[(abs(mean), std, p['C']) \n",
    "    for p, mean, std in [x for x in svr_grid.grid_scores_ if x[0]['kernel'] == 'rbf']])\n",
    "C.semilogx(models[2],models[0],'o-')\n",
    "C.set_title(\"Effect of 'C' on MSE of Model\", y=1.05)\n",
    "C.set_xlabel(\"C\")\n",
    "C.set_ylabel(\"MSE\")\n",
    "\n",
    "# then plot 'epsilon'\n",
    "models = zip(*[(abs(mean), std, p['kernel']) \n",
    "    for p, mean, std in [x for x in svr_grid.grid_scores_ if x[0]['C'] == 1]])\n",
    "kernel.semilogx(models[2],models[0],'o-')\n",
    "kernel.set_title(\"Effect of 'kernel' on MSE of Model\", y=1.05)\n",
    "kernel.set_xlabel(\"kernel\")\n",
    "kernel.set_ylabel(\"MSE\")\n",
    "f.tight_layout(h_pad=10.05)\n",
    "f.show()"
   ]
  },
  {
   "cell_type": "markdown",
   "metadata": {},
   "source": [
    "Get Support Vector predictions on all the training data now that we've determined good parameter values."
   ]
  },
  {
   "cell_type": "code",
   "execution_count": null,
   "metadata": {
    "collapsed": false
   },
   "outputs": [],
   "source": [
    "# Set the best parameters as our choices for this run.\n",
    "support_vector_reg.set_params(**svr_grid.best_params_)\n",
    "# Compute predictions on the entire set by collecting the predictions on the held-out set from each fold\n",
    "y_svr_pred = cross_val_predict(support_vector_reg, X_train, y_train)\n",
    "print \"Mean Squared Error:  {}\".format(mean_squared_error(y_train, y_svr_pred))\n",
    "print \"Pearson Correlation: {}\".format(pearsonr(y_train, y_svr_pred)[0])"
   ]
  },
  {
   "cell_type": "markdown",
   "metadata": {},
   "source": [
    "Let's again visualize the actual vs predicted ratingScore"
   ]
  },
  {
   "cell_type": "code",
   "execution_count": null,
   "metadata": {
    "collapsed": false
   },
   "outputs": [],
   "source": [
    "plt.figure(figsize=(6,6))\n",
    "plt.plot(y_train, y_svr_pred, 'o')\n",
    "plt.plot([1, 10], [1, 10], 'k--')\n",
    "plt.xlabel(\"Actual\")\n",
    "plt.ylabel(\"Predicted\")\n",
    "plt.title(\"Actual vs. Predicted values for ratingScore - SVR\", y=1.05)\n",
    "plt.xlim(1, 10)\n",
    "plt.ylim(1, 10)\n",
    "plt.gca().set_aspect('equal', adjustable='box')\n",
    "plt.show()"
   ]
  },
  {
   "cell_type": "markdown",
   "metadata": {},
   "source": [
    "## Gradient Boosting Regressor"
   ]
  },
  {
   "cell_type": "markdown",
   "metadata": {},
   "source": [
    "What if we stacked these two learners together to create another model?"
   ]
  },
  {
   "cell_type": "code",
   "execution_count": null,
   "metadata": {
    "collapsed": true
   },
   "outputs": [],
   "source": [
    "from sklearn.ensemble import GradientBoostingRegressor\n",
    "gradient_boost_reg = GradientBoostingRegressor(\n",
    "    max_features='sqrt',\n",
    "    random_state=12)\n",
    "# We'll mess with one parameter in our grid search. (GBR takes a long time)\n",
    "# max_depth - How far to grow each of the trees\n",
    "parameters = {\n",
    "    'max_depth': [2, 3, 4, 6, 8, 10, 20]\n",
    "}\n",
    "# Set up the GridSearch with cross-validation\n",
    "gbr_grid = GridSearchCV(gradient_boost_reg, parameters, scoring=mse_scorer, cv=kf, n_jobs=3)"
   ]
  },
  {
   "cell_type": "code",
   "execution_count": null,
   "metadata": {
    "collapsed": false
   },
   "outputs": [],
   "source": [
    "# Fit model to training data - not nearly as long-running as RandomForest\n",
    "train(svr_grid, X_train, y_train)"
   ]
  },
  {
   "cell_type": "markdown",
   "metadata": {},
   "source": [
    "What were the best values for the hyper-parameter(s) within our grid?"
   ]
  },
  {
   "cell_type": "code",
   "execution_count": null,
   "metadata": {
    "collapsed": false,
    "scrolled": true
   },
   "outputs": [],
   "source": [
    "print \"Best model: {}\".format(gbr_grid.best_estimator_)"
   ]
  },
  {
   "cell_type": "code",
   "execution_count": null,
   "metadata": {
    "collapsed": false
   },
   "outputs": [],
   "source": [
    "# Plot 'max_depth' vs MSE\n",
    "models = zip(*[(abs(mean), std, p['n_neighbors']) for p, mean, std in knn_grid.grid_scores_])\n",
    "plt.plot(models[2],models[0],'o-')\n",
    "plt.set_title(\"Effect of 'n_neighbors' on MSE of Model\", y=1.05)\n",
    "plt.set_xlabel(\"n_neighbors\")\n",
    "plt.set_ylabel(\"MSE\")\n",
    "plt.show()"
   ]
  },
  {
   "cell_type": "code",
   "execution_count": null,
   "metadata": {
    "collapsed": false
   },
   "outputs": [],
   "source": [
    "# Linear regression will be used to stack the children models.\n",
    "from sklearn.linear_model import  LinearRegression\n",
    "linear_reg = LinearRegression(normalize=True)\n",
    "\n",
    "# Create a data frame with each child learner's predictions as a column\n",
    "child_predictions = pd.DataFrame()\n",
    "child_predictions['random_forest']     = pd.Series(y_rf_pred)\n",
    "child_predictions['k_neighbors']       = pd.Series(y_knn_pred)\n",
    "child_predictions['support_vector']    = pd.Series(y_svr_pred)\n",
    "child_predictions['gradient_boosting'] = pd.Series(y_gbr_pred)\n",
    "\n",
    "# Train the stacked regression\n",
    "y_stack_pred = cross_val_predict(linear_reg, child_predictions, y_train)"
   ]
  },
  {
   "cell_type": "code",
   "execution_count": null,
   "metadata": {
    "collapsed": false
   },
   "outputs": [],
   "source": [
    "train(linear_reg, child_predictions, y_train)"
   ]
  },
  {
   "cell_type": "code",
   "execution_count": null,
   "metadata": {
    "collapsed": false
   },
   "outputs": [],
   "source": [
    "# How did the stack of two child models perform?\n",
    "print \"Mean Squared Error:  {}\".format(mean_squared_error(y_stack, y_stack_pred))\n",
    "print \"Pearson Correlation: {}\".format(pearsonr(y_stack, y_stack_pred)[0])"
   ]
  },
  {
   "cell_type": "code",
   "execution_count": null,
   "metadata": {
    "collapsed": false
   },
   "outputs": [],
   "source": [
    "plt.figure(figsize=(6,6))\n",
    "plt.plot(y_stack, y_stack_pred, 'o')\n",
    "plt.plot([1, 10], [1, 10], 'k--')\n",
    "plt.xlabel(\"Actual\")\n",
    "plt.ylabel(\"Predicted\")\n",
    "plt.title(\"Actual vs. Predicted values for ratingScore - Lasso\", y=1.05)\n",
    "plt.xlim(1, 10)\n",
    "plt.ylim(1, 10)\n",
    "plt.gca().set_aspect('equal', adjustable='box')\n",
    "plt.show()"
   ]
  },
  {
   "cell_type": "markdown",
   "metadata": {},
   "source": [
    "## Creating a Pipeline for Stacking"
   ]
  },
  {
   "cell_type": "markdown",
   "metadata": {},
   "source": [
    "This is a bit tedious. It'd be easier if this stacking concept had a standard interface."
   ]
  },
  {
   "cell_type": "code",
   "execution_count": null,
   "metadata": {
    "collapsed": false
   },
   "outputs": [],
   "source": [
    "class StackedRegression:\n",
    "    from sklearn.externals.joblib import Parallel, delayed\n",
    "    from sklearn.metrics import make_scorer, mean_squared_error\n",
    "    from scipy.stats import pearsonr\n",
    "    from sklearn.cross_validation import cross_val_predict\n",
    "\n",
    "    __name__ = 'StackedRegression'\n",
    "    \n",
    "    def __init__(self, estimators, meta_estimator, cv=None, random_state=None, n_jobs=1, verbose=0):\n",
    "        self.estimators = estimators\n",
    "        self.meta_estimator = meta_estimator\n",
    "        self.cv = cv\n",
    "        self.random_state = random_state\n",
    "        self.n_jobs = n_jobs\n",
    "        self.verbose = verbose\n",
    "    \n",
    "    def _fit_estimator(estimator, X, y, cv=10, verbose=0, random_state=None):\n",
    "        \"\"\"Private function used to fit with a single estimator in parallel.\"\"\"\n",
    "        # Get cross-validated predictions on all of the data - to feed to stacker\n",
    "        y_pred = cross_val_predict(estimator, X, y, cv=10)\n",
    "        if verbose > 0:\n",
    "            print \"Estimator: {}\".format(estimator.__name__)\n",
    "            print \"  Mean Squared Error:  {}\".format(mean_squared_error(y, y_pred))\n",
    "            print \"  Pearson Correlation: {}\".format(pearsonr(y, y_pred)[0])\n",
    "        # Train the final estimator on all data\n",
    "        estimator.fit(X, y)\n",
    "        # Return the cross-validated predictions for this child estimator\n",
    "        return y_pred\n",
    "\n",
    "    def _predict_estimator(estimator, X, verbose=0):\n",
    "        \"\"\"Private function used to predict with a single estimator in parallel.\"\"\"\n",
    "        # Return the cross-validated predictions for this child estimator\n",
    "        return estimator.predict(X)\n",
    "\n",
    "    def fit(self, X, y):\n",
    "        \"\"\"Fit the model according to the given training data.\"\"\"\n",
    "        # Parallel loop: fit each estimator, storing cross-validated predictions\n",
    "        self.child_predictions_ = Parallel(n_jobs=self.n_jobs, verbose=self.verbose, backend=\"threading\")(\n",
    "                delayed(_fit_estimator)(\n",
    "                    est, X, y, cv=self.cv, verbose=self.verbose, random_state=self.random_state)\n",
    "                for est in self.estimators)\n",
    "        # fit the meta-estimator on the predictions from the child estimators\n",
    "        self.stack_pred_ = _fit_estimator(self.meta_estimator,\n",
    "            self.child_predictions_, y, cv=self.cv, verbose=self.verbose, random_state=self.random_state)\n",
    "        return self\n",
    "    \n",
    "    def predict(self, X):\n",
    "        \"\"\"Predict class for X.\"\"\"\n",
    "        # First predict with all child estimators\n",
    "        # Parallel loop: predict with each child estimator\n",
    "        child_predictions = Parallel(n_jobs=self.n_jobs, verbose=self.verbose, backend=\"threading\")(\n",
    "                delayed(_predict_estimator)(est, X, verbose=self.verbose)\n",
    "                for est in self.estimators)\n",
    "        # fit the meta-estimator on the predictions from the child estimators\n",
    "        stack_predictions = _predict_estimator(self.meta_estimator, child_predictions, verbose=self.verbose)\n",
    "        return stack_predictions"
   ]
  },
  {
   "cell_type": "code",
   "execution_count": null,
   "metadata": {
    "collapsed": false
   },
   "outputs": [],
   "source": [
    "# I'll use a linear model (Lasso) as the \"meta-estimator\" or stacker\n",
    "from sklearn.linear_model import Lasso\n",
    "lasso_reg = Lasso()\n",
    "\n",
    "# Create the stacking regression learner\n",
    "stacker = StackedRegression(\n",
    "    # Child estimators\n",
    "    [random_forest_reg, k_neighbors_reg, support_vector_reg, gradient_boost_reg],\n",
    "    # Stacking meta-estimator\n",
    "    lasso_reg,\n",
    "    cv=kf,\n",
    "    verbose=1,\n",
    "    random_state=12,\n",
    "    n_jobs=3)"
   ]
  },
  {
   "cell_type": "code",
   "execution_count": null,
   "metadata": {
    "collapsed": false
   },
   "outputs": [],
   "source": [
    "# Now train it\n",
    "from sklearn.externals.joblib import Parallel, delayed\n",
    "stacker.fit(X_train, y_train)"
   ]
  },
  {
   "cell_type": "markdown",
   "metadata": {},
   "source": [
    "## Illustrative Plots for the Paper"
   ]
  },
  {
   "cell_type": "markdown",
   "metadata": {},
   "source": [
    "### Correlation Coefficients"
   ]
  },
  {
   "cell_type": "code",
   "execution_count": null,
   "metadata": {
    "collapsed": false
   },
   "outputs": [],
   "source": [
    "# Settings that apply to all plots\n",
    "f, (neg, zero, pos) = plt.subplots(1, 3, figsize=(12, 4))\n",
    "plots = [\n",
    "    (neg,  [[.03, -.03], [.001, .001]]),  # Negative correlation\n",
    "    (zero, [[.05, 0],    [0, .05]]),      # Random (near-zero) correlation\n",
    "    (pos,  [[.03, .03],  [-.001, .001]])] # Positive correlation\n",
    "for (subplot, covariance) in (plots):\n",
    "    # Distributions centered around the midpoint between 0 and 1\n",
    "    mean = [0.5, 0.5]\n",
    "    x, y = np.random.multivariate_normal(mean, covariance, 300).T\n",
    "    subplot.set_aspect('equal', adjustable='box')\n",
    "    subplot.plot(x, y, 'o')\n",
    "    subplot.set_xlim(0,1)\n",
    "    subplot.set_ylim(0,1)\n",
    "    subplot.axes.get_xaxis().set_ticklabels([])\n",
    "    subplot.axes.get_yaxis().set_ticklabels([])\n",
    "    subplot.set_title(\"R = {0:.1f}\".format(pearsonr(x, y)[0]))\n",
    "#Show them all\n",
    "plt.show()"
   ]
  },
  {
   "cell_type": "code",
   "execution_count": null,
   "metadata": {
    "collapsed": true
   },
   "outputs": [],
   "source": []
  }
 ],
 "metadata": {
  "kernelspec": {
   "display_name": "Python 2",
   "language": "python",
   "name": "python2"
  },
  "language_info": {
   "codemirror_mode": {
    "name": "ipython",
    "version": 2
   },
   "file_extension": ".py",
   "mimetype": "text/x-python",
   "name": "python",
   "nbconvert_exporter": "python",
   "pygments_lexer": "ipython2",
   "version": "2.7.6"
  }
 },
 "nbformat": 4,
 "nbformat_minor": 0
}
