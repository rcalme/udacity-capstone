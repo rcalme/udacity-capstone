{
 "cells": [
  {
   "cell_type": "markdown",
   "metadata": {},
   "source": [
    "# Building a Better Board Game"
   ]
  },
  {
   "cell_type": "markdown",
   "metadata": {},
   "source": [
    "### Import Libraries"
   ]
  },
  {
   "cell_type": "code",
   "execution_count": 2,
   "metadata": {
    "collapsed": false
   },
   "outputs": [
    {
     "name": "stdout",
     "output_type": "stream",
     "text": [
      "Matplotlib version 1.5.1 is installed.\n"
     ]
    }
   ],
   "source": [
    "import numpy as np\n",
    "import pandas as pd\n",
    "\n",
    "%matplotlib inline\n",
    "import matplotlib.pyplot as plt\n",
    "import matplotlib\n",
    "print(\"Matplotlib version {} is installed.\").format(matplotlib.__version__)\n",
    "# Style 'ggplot' makes prettier plots.\n",
    "#(plt.style isn't supported before matplotlib v1.4)\n",
    "# Comment the following line, and this notebook will\n",
    "# still run on matplotlib <1.4, but with default plot styling.\n",
    "plt.style.use('ggplot')"
   ]
  },
  {
   "cell_type": "markdown",
   "metadata": {},
   "source": [
    "## Data Exploration / Data Preprocessing"
   ]
  },
  {
   "cell_type": "markdown",
   "metadata": {},
   "source": [
    "Read all of our data in as a pandas data frame"
   ]
  },
  {
   "cell_type": "code",
   "execution_count": 3,
   "metadata": {
    "collapsed": false
   },
   "outputs": [],
   "source": [
    "allData = pd.read_csv(\"../Data/CSV/games.csv\")"
   ]
  },
  {
   "cell_type": "markdown",
   "metadata": {},
   "source": [
    "How many observations (games) are in our set?"
   ]
  },
  {
   "cell_type": "code",
   "execution_count": 4,
   "metadata": {
    "collapsed": false
   },
   "outputs": [
    {
     "name": "stdout",
     "output_type": "stream",
     "text": [
      "The data set contains 84593 games.\n"
     ]
    }
   ],
   "source": [
    "print(\"The data set contains {} games.\").format(len(allData))"
   ]
  },
  {
   "cell_type": "markdown",
   "metadata": {},
   "source": [
    "Get an idea of the range of values for each feature in the data"
   ]
  },
  {
   "cell_type": "code",
   "execution_count": 6,
   "metadata": {
    "collapsed": false
   },
   "outputs": [
    {
     "data": {
      "text/html": [
       "<div style=\"max-height:1000px;max-width:1500px;overflow:auto;\">\n",
       "<table border=\"1\" class=\"dataframe\">\n",
       "  <thead>\n",
       "    <tr style=\"text-align: right;\">\n",
       "      <th></th>\n",
       "      <th>id</th>\n",
       "      <th>year</th>\n",
       "      <th>ratingScore</th>\n",
       "      <th>ratingCount</th>\n",
       "      <th>ratingStdDev</th>\n",
       "      <th>weightAvg</th>\n",
       "      <th>weightLightPct</th>\n",
       "      <th>weightMediumLightPct</th>\n",
       "      <th>weightMediumPct</th>\n",
       "      <th>weightMediumHeavyPct</th>\n",
       "      <th>weightHeavyPct</th>\n",
       "      <th>playerAgeMin</th>\n",
       "      <th>playtimeMin</th>\n",
       "      <th>playtimeMax</th>\n",
       "      <th>playersStatedMin</th>\n",
       "      <th>playersStatedMax</th>\n",
       "      <th>playersBestMin</th>\n",
       "      <th>playersBestMax</th>\n",
       "      <th>priceAverage</th>\n",
       "      <th>priceStdDev</th>\n",
       "      <th></th>\n",
       "    </tr>\n",
       "  </thead>\n",
       "  <tbody>\n",
       "    <tr>\n",
       "      <th>count</th>\n",
       "      <td>  84593.000000</td>\n",
       "      <td> 84593.000000</td>\n",
       "      <td> 84593.000000</td>\n",
       "      <td> 84593.000000</td>\n",
       "      <td> 84593.000000</td>\n",
       "      <td> 84593.000000</td>\n",
       "      <td> 71714.000000</td>\n",
       "      <td> 71714.000000</td>\n",
       "      <td> 71714.000000</td>\n",
       "      <td> 71714.000000</td>\n",
       "      <td> 71714.000000</td>\n",
       "      <td> 84593.000000</td>\n",
       "      <td> 84593.000000</td>\n",
       "      <td> 84593.000000</td>\n",
       "      <td> 84593.00000</td>\n",
       "      <td> 84593.000000</td>\n",
       "      <td> 84593.000000</td>\n",
       "      <td> 84593.000000</td>\n",
       "      <td> 19461.000000</td>\n",
       "      <td> 19461.000000</td>\n",
       "      <td>...</td>\n",
       "    </tr>\n",
       "    <tr>\n",
       "      <th>mean</th>\n",
       "      <td>  80013.233152</td>\n",
       "      <td>  1807.385008</td>\n",
       "      <td>     4.279174</td>\n",
       "      <td>   110.736988</td>\n",
       "      <td>     0.774242</td>\n",
       "      <td>     0.876848</td>\n",
       "      <td>    19.957703</td>\n",
       "      <td>    16.550744</td>\n",
       "      <td>    10.183793</td>\n",
       "      <td>     3.200719</td>\n",
       "      <td>     1.401069</td>\n",
       "      <td>     7.019162</td>\n",
       "      <td>    47.198243</td>\n",
       "      <td>    51.168395</td>\n",
       "      <td>     1.98825</td>\n",
       "      <td>     5.682491</td>\n",
       "      <td>     2.219664</td>\n",
       "      <td>     5.263934</td>\n",
       "      <td>    24.716603</td>\n",
       "      <td>     7.954304</td>\n",
       "      <td>...</td>\n",
       "    </tr>\n",
       "    <tr>\n",
       "      <th>std</th>\n",
       "      <td>  63960.226532</td>\n",
       "      <td>   588.475029</td>\n",
       "      <td>     3.039157</td>\n",
       "      <td>   929.482652</td>\n",
       "      <td>     0.814887</td>\n",
       "      <td>     1.160127</td>\n",
       "      <td>    35.385330</td>\n",
       "      <td>    29.738281</td>\n",
       "      <td>    23.392949</td>\n",
       "      <td>    12.743502</td>\n",
       "      <td>     8.428136</td>\n",
       "      <td>     6.808049</td>\n",
       "      <td>   327.225953</td>\n",
       "      <td>   341.891784</td>\n",
       "      <td>     0.92677</td>\n",
       "      <td>    55.144456</td>\n",
       "      <td>     1.210552</td>\n",
       "      <td>    54.600688</td>\n",
       "      <td>    33.740133</td>\n",
       "      <td>    16.690697</td>\n",
       "      <td>...</td>\n",
       "    </tr>\n",
       "    <tr>\n",
       "      <th>min</th>\n",
       "      <td>      1.000000</td>\n",
       "      <td> -3500.000000</td>\n",
       "      <td>     0.000000</td>\n",
       "      <td>     0.000000</td>\n",
       "      <td>     0.000000</td>\n",
       "      <td>     0.000000</td>\n",
       "      <td>     0.000000</td>\n",
       "      <td>     0.000000</td>\n",
       "      <td>     0.000000</td>\n",
       "      <td>     0.000000</td>\n",
       "      <td>     0.000000</td>\n",
       "      <td>     0.000000</td>\n",
       "      <td>     0.000000</td>\n",
       "      <td>     0.000000</td>\n",
       "      <td>     0.00000</td>\n",
       "      <td>     0.000000</td>\n",
       "      <td>     0.000000</td>\n",
       "      <td>     0.000000</td>\n",
       "      <td>     0.010000</td>\n",
       "      <td>     0.000000</td>\n",
       "      <td>...</td>\n",
       "    </tr>\n",
       "    <tr>\n",
       "      <th>25%</th>\n",
       "      <td>  23001.000000</td>\n",
       "      <td>  1985.000000</td>\n",
       "      <td>     0.000000</td>\n",
       "      <td>     0.000000</td>\n",
       "      <td>     0.000000</td>\n",
       "      <td>     0.000000</td>\n",
       "      <td>     0.000000</td>\n",
       "      <td>     0.000000</td>\n",
       "      <td>     0.000000</td>\n",
       "      <td>     0.000000</td>\n",
       "      <td>     0.000000</td>\n",
       "      <td>     0.000000</td>\n",
       "      <td>     6.000000</td>\n",
       "      <td>     5.000000</td>\n",
       "      <td>     2.00000</td>\n",
       "      <td>     2.000000</td>\n",
       "      <td>     2.000000</td>\n",
       "      <td>     2.000000</td>\n",
       "      <td>     9.950000</td>\n",
       "      <td>     0.000000</td>\n",
       "      <td>...</td>\n",
       "    </tr>\n",
       "    <tr>\n",
       "      <th>50%</th>\n",
       "      <td>  60049.000000</td>\n",
       "      <td>  2004.000000</td>\n",
       "      <td>     5.333330</td>\n",
       "      <td>     2.000000</td>\n",
       "      <td>     0.695211</td>\n",
       "      <td>     0.000000</td>\n",
       "      <td>     0.000000</td>\n",
       "      <td>     0.000000</td>\n",
       "      <td>     0.000000</td>\n",
       "      <td>     0.000000</td>\n",
       "      <td>     0.000000</td>\n",
       "      <td>     8.000000</td>\n",
       "      <td>    30.000000</td>\n",
       "      <td>    30.000000</td>\n",
       "      <td>     2.00000</td>\n",
       "      <td>     4.000000</td>\n",
       "      <td>     2.000000</td>\n",
       "      <td>     4.000000</td>\n",
       "      <td>    16.663333</td>\n",
       "      <td>     3.925003</td>\n",
       "      <td>...</td>\n",
       "    </tr>\n",
       "    <tr>\n",
       "      <th>75%</th>\n",
       "      <td> 139950.000000</td>\n",
       "      <td>  2011.000000</td>\n",
       "      <td>     6.716100</td>\n",
       "      <td>    15.000000</td>\n",
       "      <td>     1.419710</td>\n",
       "      <td>     1.785700</td>\n",
       "      <td>    25.000000</td>\n",
       "      <td>    25.000000</td>\n",
       "      <td>     0.000000</td>\n",
       "      <td>     0.000000</td>\n",
       "      <td>     0.000000</td>\n",
       "      <td>    12.000000</td>\n",
       "      <td>    60.000000</td>\n",
       "      <td>    60.000000</td>\n",
       "      <td>     2.00000</td>\n",
       "      <td>     6.000000</td>\n",
       "      <td>     2.000000</td>\n",
       "      <td>     6.000000</td>\n",
       "      <td>    29.084300</td>\n",
       "      <td>     9.479418</td>\n",
       "      <td>...</td>\n",
       "    </tr>\n",
       "    <tr>\n",
       "      <th>max</th>\n",
       "      <td> 202858.000000</td>\n",
       "      <td>  2018.000000</td>\n",
       "      <td>    10.000000</td>\n",
       "      <td> 59423.000000</td>\n",
       "      <td>     4.500000</td>\n",
       "      <td>     5.000000</td>\n",
       "      <td>   100.000000</td>\n",
       "      <td>   100.000000</td>\n",
       "      <td>   100.000000</td>\n",
       "      <td>   100.000000</td>\n",
       "      <td>   100.000000</td>\n",
       "      <td>  1333.000000</td>\n",
       "      <td> 60120.000000</td>\n",
       "      <td> 60120.000000</td>\n",
       "      <td>    99.00000</td>\n",
       "      <td> 11299.000000</td>\n",
       "      <td>    99.000000</td>\n",
       "      <td> 11299.000000</td>\n",
       "      <td>  1300.000000</td>\n",
       "      <td>   581.085046</td>\n",
       "      <td>...</td>\n",
       "    </tr>\n",
       "  </tbody>\n",
       "</table>\n",
       "<p>8 rows × 163 columns</p>\n",
       "</div>"
      ],
      "text/plain": [
       "                  id          year   ratingScore   ratingCount  ratingStdDev  \\\n",
       "count   84593.000000  84593.000000  84593.000000  84593.000000  84593.000000   \n",
       "mean    80013.233152   1807.385008      4.279174    110.736988      0.774242   \n",
       "std     63960.226532    588.475029      3.039157    929.482652      0.814887   \n",
       "min         1.000000  -3500.000000      0.000000      0.000000      0.000000   \n",
       "25%     23001.000000   1985.000000      0.000000      0.000000      0.000000   \n",
       "50%     60049.000000   2004.000000      5.333330      2.000000      0.695211   \n",
       "75%    139950.000000   2011.000000      6.716100     15.000000      1.419710   \n",
       "max    202858.000000   2018.000000     10.000000  59423.000000      4.500000   \n",
       "\n",
       "          weightAvg  weightLightPct  weightMediumLightPct  weightMediumPct  \\\n",
       "count  84593.000000    71714.000000          71714.000000     71714.000000   \n",
       "mean       0.876848       19.957703             16.550744        10.183793   \n",
       "std        1.160127       35.385330             29.738281        23.392949   \n",
       "min        0.000000        0.000000              0.000000         0.000000   \n",
       "25%        0.000000        0.000000              0.000000         0.000000   \n",
       "50%        0.000000        0.000000              0.000000         0.000000   \n",
       "75%        1.785700       25.000000             25.000000         0.000000   \n",
       "max        5.000000      100.000000            100.000000       100.000000   \n",
       "\n",
       "       weightMediumHeavyPct  weightHeavyPct  playerAgeMin   playtimeMin  \\\n",
       "count          71714.000000    71714.000000  84593.000000  84593.000000   \n",
       "mean               3.200719        1.401069      7.019162     47.198243   \n",
       "std               12.743502        8.428136      6.808049    327.225953   \n",
       "min                0.000000        0.000000      0.000000      0.000000   \n",
       "25%                0.000000        0.000000      0.000000      6.000000   \n",
       "50%                0.000000        0.000000      8.000000     30.000000   \n",
       "75%                0.000000        0.000000     12.000000     60.000000   \n",
       "max              100.000000      100.000000   1333.000000  60120.000000   \n",
       "\n",
       "        playtimeMax  playersStatedMin  playersStatedMax  playersBestMin  \\\n",
       "count  84593.000000       84593.00000      84593.000000    84593.000000   \n",
       "mean      51.168395           1.98825          5.682491        2.219664   \n",
       "std      341.891784           0.92677         55.144456        1.210552   \n",
       "min        0.000000           0.00000          0.000000        0.000000   \n",
       "25%        5.000000           2.00000          2.000000        2.000000   \n",
       "50%       30.000000           2.00000          4.000000        2.000000   \n",
       "75%       60.000000           2.00000          6.000000        2.000000   \n",
       "max    60120.000000          99.00000      11299.000000       99.000000   \n",
       "\n",
       "       playersBestMax  priceAverage   priceStdDev      \n",
       "count    84593.000000  19461.000000  19461.000000 ...  \n",
       "mean         5.263934     24.716603      7.954304 ...  \n",
       "std         54.600688     33.740133     16.690697 ...  \n",
       "min          0.000000      0.010000      0.000000 ...  \n",
       "25%          2.000000      9.950000      0.000000 ...  \n",
       "50%          4.000000     16.663333      3.925003 ...  \n",
       "75%          6.000000     29.084300      9.479418 ...  \n",
       "max      11299.000000   1300.000000    581.085046 ...  \n",
       "\n",
       "[8 rows x 163 columns]"
      ]
     },
     "execution_count": 6,
     "metadata": {},
     "output_type": "execute_result"
    }
   ],
   "source": [
    "allData.describe()"
   ]
  },
  {
   "cell_type": "markdown",
   "metadata": {},
   "source": [
    "It seems that most features have values for most games, with the exception of priceAverage and priceStdDev"
   ]
  },
  {
   "cell_type": "code",
   "execution_count": 7,
   "metadata": {
    "collapsed": false
   },
   "outputs": [
    {
     "name": "stdout",
     "output_type": "stream",
     "text": [
      "23.0054496235% of games have a value for the 'priceAverage' feature.\n"
     ]
    }
   ],
   "source": [
    "feature = \"priceAverage\"\n",
    "percentage = len(allData[feature].dropna())/float(len(allData)) * 100\n",
    "print(\"{}% of games have a value for the '{}' feature.\").format(percentage, feature)"
   ]
  },
  {
   "cell_type": "markdown",
   "metadata": {},
   "source": [
    "How many games have values for *all* features in the set?"
   ]
  },
  {
   "cell_type": "code",
   "execution_count": 8,
   "metadata": {
    "collapsed": false
   },
   "outputs": [
    {
     "name": "stdout",
     "output_type": "stream",
     "text": [
      "22.5727897107% of games have a values for all features.\n",
      "19095 games remain once filtering out those with null feature values.\n"
     ]
    }
   ],
   "source": [
    "allWithoutNA = allData.dropna()\n",
    "percentage = len(allWithoutNA)/float(len(allData)) * 100\n",
    "print(\"{}% of games have a values for all features.\").format(percentage, feature)\n",
    "print(\"{} games remain once filtering out those with null feature values.\").format(len(allWithoutNA))"
   ]
  },
  {
   "cell_type": "markdown",
   "metadata": {},
   "source": [
    "Some games have feature values that we might choose to consider as outliers."
   ]
  },
  {
   "cell_type": "code",
   "execution_count": 9,
   "metadata": {
    "collapsed": false
   },
   "outputs": [
    {
     "data": {
      "text/plain": [
       "count    19095.000000\n",
       "mean      1980.718408\n",
       "std        209.432133\n",
       "min      -3500.000000\n",
       "25%       1994.000000\n",
       "50%       2006.000000\n",
       "75%       2012.000000\n",
       "max       2016.000000\n",
       "Name: year, dtype: float64"
      ]
     },
     "execution_count": 9,
     "metadata": {},
     "output_type": "execute_result"
    }
   ],
   "source": [
    "allWithoutNA.year.describe()"
   ]
  },
  {
   "cell_type": "markdown",
   "metadata": {},
   "source": [
    "As you can see above, some games were published as early as 3500 B.C.\n",
    "Perhaps we should limit the year of publication to exclude ancient Egyptian games."
   ]
  },
  {
   "cell_type": "code",
   "execution_count": 10,
   "metadata": {
    "collapsed": false
   },
   "outputs": [
    {
     "name": "stdout",
     "output_type": "stream",
     "text": [
      "18799 games remain once filtering out those published prior to 1950.\n"
     ]
    }
   ],
   "source": [
    "since1950 = allWithoutNA.query(\"year >= 1950\")\n",
    "print(\"{} games remain once filtering out those published prior to 1950.\").format(len(since1950))"
   ]
  },
  {
   "cell_type": "markdown",
   "metadata": {},
   "source": [
    "Ratings are crowd-sourced. Ratings may be less reliable if there were too few people contributing to the rating.\n",
    "\n",
    "How many games have at least three votes cast toward their rating?"
   ]
  },
  {
   "cell_type": "code",
   "execution_count": 11,
   "metadata": {
    "collapsed": false
   },
   "outputs": [
    {
     "name": "stdout",
     "output_type": "stream",
     "text": [
      "18141 games remain once filtering out those rated by fewer than 3 people\n"
     ]
    }
   ],
   "source": [
    "atLeastThreeRaters = since1950.query(\"ratingCount > 2\")\n",
    "print(\"{} games remain once filtering out those rated by fewer than 3 people\").format(len(atLeastThreeRaters))"
   ]
  },
  {
   "cell_type": "markdown",
   "metadata": {},
   "source": [
    "Our target variable is going to be 'ratingScore'.\n",
    "\n",
    "Let's see how the ratingScore value is distributed."
   ]
  },
  {
   "cell_type": "code",
   "execution_count": 12,
   "metadata": {
    "collapsed": false
   },
   "outputs": [
    {
     "data": {
      "text/plain": [
       "count    18141.000000\n",
       "mean         6.496881\n",
       "std          1.022268\n",
       "min          1.000000\n",
       "25%          5.857140\n",
       "50%          6.546350\n",
       "75%          7.217780\n",
       "max         10.000000\n",
       "Name: ratingScore, dtype: float64"
      ]
     },
     "execution_count": 12,
     "metadata": {},
     "output_type": "execute_result"
    }
   ],
   "source": [
    "df = atLeastThreeRaters\n",
    "df.ratingScore.describe()"
   ]
  },
  {
   "cell_type": "markdown",
   "metadata": {},
   "source": [
    "It seems as if 1.0 is the minimum allowable score, and 10.0 is the max.\n",
    "\n",
    "A histogram will probably help us see how these ratings are distributed."
   ]
  },
  {
   "cell_type": "markdown",
   "metadata": {},
   "source": [
    "## Exploratory Visualization"
   ]
  },
  {
   "cell_type": "code",
   "execution_count": 14,
   "metadata": {
    "collapsed": false,
    "scrolled": true
   },
   "outputs": [
    {
     "data": {
      "image/png": "[encoded data removed]",
      "text/plain": [
       "<matplotlib.figure.Figure at 0x7f119d81ab10>"
      ]
     },
     "metadata": {},
     "output_type": "display_data"
    }
   ],
   "source": [
    "plt.figure(figsize=(10,6))\n",
    "plt.hist(df.ratingScore, 100)\n",
    "plt.xlim(xmin=1, xmax=10)\n",
    "plt.xlabel(\"Rating\")\n",
    "plt.ylabel(\"Frequency\")\n",
    "plt.title(\"Histogram of Game Ratings\")\n",
    "plt.show()"
   ]
  },
  {
   "cell_type": "markdown",
   "metadata": {},
   "source": [
    "Well, that looks like a shifted Gaussian distribution. Ratings of 1.0 and 10.0 are quite uncommon.\n",
    "\n",
    "The mean of our subset of the data is shifted toward higher ratings."
   ]
  },
  {
   "cell_type": "code",
   "execution_count": 26,
   "metadata": {
    "collapsed": false
   },
   "outputs": [
    {
     "name": "stdout",
     "output_type": "stream",
     "text": [
      "The mean rating for our subset of games is 6.497.\n"
     ]
    }
   ],
   "source": [
    "print \"The mean rating for our subset of games is {0:.3f}.\".format(np.mean(df.ratingScore))"
   ]
  },
  {
   "cell_type": "markdown",
   "metadata": {},
   "source": [
    "Now let's separate the columns that we intend to use as features from that which is the target."
   ]
  },
  {
   "cell_type": "code",
   "execution_count": 27,
   "metadata": {
    "collapsed": false
   },
   "outputs": [],
   "source": [
    "# Why are we excluding features?\n",
    "# 'id' holds no predictive value\n",
    "# 'name', and 'url' are strings, and cannot be features in their current form\n",
    "# 'ratingCount' and 'ratingStdDev' will likely be unavailable features during prediction\n",
    "# 'ratingScore' is the target variable, and should not be used to train a model\n",
    "excluded = [\"id\", \"name\", \"url\", \"ratingScore\", \"ratingCount\", \"ratingStdDev\"]\n",
    "feature_cols = [col for col in df.columns if col not in excluded]\n",
    "\n",
    "# This is our target\n",
    "target_col = \"ratingScore\"\n",
    "\n",
    "# Create an n*m data frame where n is the number of games, and m is the number of features\n",
    "X_all = df[feature_cols]\n",
    "# Create an n*1 data frame where n is the number of games, each with the single target feature\n",
    "y_all = df[target_col]"
   ]
  },
  {
   "cell_type": "markdown",
   "metadata": {},
   "source": [
    "## Implementation"
   ]
  },
  {
   "cell_type": "markdown",
   "metadata": {},
   "source": [
    "We need to split this data into (at least) two portions.\n",
    "* A training set\n",
    "* A held-out test (or validation) set\n",
    "\n",
    "An 80/20 split seems reasonable, with the amount of data we have available."
   ]
  },
  {
   "cell_type": "code",
   "execution_count": 28,
   "metadata": {
    "collapsed": false
   },
   "outputs": [
    {
     "name": "stdout",
     "output_type": "stream",
     "text": [
      "Training set includes 14512 samples\n",
      "Test set includes     3629 samples\n"
     ]
    }
   ],
   "source": [
    "# Determine the number of observations to include in the training set\n",
    "num_train = int(0.8 * df.shape[0])\n",
    "\n",
    "# Select features (X) and corresponding labels (y) for the training and test sets\n",
    "# train_test_split() shuffles data randomly. We will set the random state for consistency\n",
    "from sklearn.cross_validation import train_test_split\n",
    "X_train, X_test, y_train, y_test = train_test_split(\n",
    "    X_all, y_all,\n",
    "    train_size=num_train,\n",
    "    random_state=12)\n",
    "\n",
    "print \"Training set includes {} samples\".format(X_train.shape[0])\n",
    "print \"Test set includes     {} samples\".format(X_test.shape[0])"
   ]
  },
  {
   "cell_type": "markdown",
   "metadata": {},
   "source": [
    "With random sampling, we would anticipate the histogram of the target variable in the training and test sets to be similarly distributed."
   ]
  },
  {
   "cell_type": "code",
   "execution_count": 30,
   "metadata": {
    "collapsed": false
   },
   "outputs": [
    {
     "data": {
      "image/png": "[encoded data removed]",
      "text/plain": [
       "<matplotlib.figure.Figure at 0x7f11890cb750>"
      ]
     },
     "metadata": {},
     "output_type": "display_data"
    }
   ],
   "source": [
    "plt.figure(figsize=(10,6))\n",
    "plt.hist(y_train, 100, label=\"Train\")\n",
    "plt.hist(y_test, 100, label=\"Test\")\n",
    "plt.legend(loc='upper right')\n",
    "plt.xlim(xmin=1, xmax=10)\n",
    "plt.xlabel(\"Rating\")\n",
    "plt.ylabel(\"Frequency\")\n",
    "plt.title(\"Histogram of Game Ratings\")\n",
    "plt.show()"
   ]
  },
  {
   "cell_type": "code",
   "execution_count": 33,
   "metadata": {
    "collapsed": false
   },
   "outputs": [],
   "source": [
    "# Helper functions to train and predict\n",
    "import time\n",
    "\n",
    "def train_regressor(reg, X_train, y_train):\n",
    "    print \"Training {}...\".format(reg.__class__.__name__)\n",
    "    start = time.time()\n",
    "    reg.fit(X_train, y_train)\n",
    "    end = time.time()\n",
    "    print \"Done.\\nTraining time (secs): {:.3f}\".format(end - start)\n",
    "    \n",
    "def predict(reg, features, target):\n",
    "    print \"Predicting target using {}...\".format(reg.__class__.__name__)\n",
    "    start = time.time()\n",
    "    y_pred = reg.predict(features)\n",
    "    end = time.time()\n",
    "    print \"Done.\\nPrediction time (secs): {:.3f}\".format(end - start)\n",
    "    return pd.Series(y_pred)"
   ]
  },
  {
   "cell_type": "markdown",
   "metadata": {},
   "source": [
    "Let's try a Random Forest regressor first, with no parameter grid search."
   ]
  },
  {
   "cell_type": "code",
   "execution_count": 34,
   "metadata": {
    "collapsed": false
   },
   "outputs": [
    {
     "name": "stdout",
     "output_type": "stream",
     "text": [
      "Training RandomForestRegressor...\n",
      "Done.\n",
      "Training time (secs): 488.983\n",
      "Predicting target using RandomForestRegressor...\n",
      "Done.\n",
      "Prediction time (secs): 2.427\n"
     ]
    }
   ],
   "source": [
    "# Random Forest is a tree-based learner.\n",
    "from sklearn.ensemble import RandomForestRegressor\n",
    "reg = RandomForestRegressor(\n",
    "    n_estimators=2000,\n",
    "    min_samples_split=5,\n",
    "    max_features=None,\n",
    "    oob_score=True,\n",
    "    random_state=12)\n",
    "\n",
    "# Fit model to training data\n",
    "train_regressor(reg, X_train, y_train)\n",
    "# And predict the test set with that trained regressor\n",
    "y_pred = predict(reg, X_test, y_test)"
   ]
  },
  {
   "cell_type": "markdown",
   "metadata": {},
   "source": [
    "With MSE, smaller values signify a better fit."
   ]
  },
  {
   "cell_type": "code",
   "execution_count": 35,
   "metadata": {
    "collapsed": false
   },
   "outputs": [
    {
     "name": "stdout",
     "output_type": "stream",
     "text": [
      "Mean Squared Error (train): 0.400457559011\n",
      "Mean Squared Error (test) : 0.401570723774\n"
     ]
    }
   ],
   "source": [
    "from sklearn.metrics import mean_squared_error\n",
    "print \"Mean Squared Error (train): {}\".format(mean_squared_error(y_train, reg.oob_prediction_))\n",
    "print \"Mean Squared Error (test) : {}\".format(mean_squared_error(y_test,  y_pred))"
   ]
  },
  {
   "cell_type": "markdown",
   "metadata": {},
   "source": [
    "With R, values closer to 1 signify a better fit. We are aiming for 0.8 or greater."
   ]
  },
  {
   "cell_type": "code",
   "execution_count": 37,
   "metadata": {
    "collapsed": false
   },
   "outputs": [
    {
     "name": "stdout",
     "output_type": "stream",
     "text": [
      "Pearson Correlation (train): 0.784187265953\n",
      "Pearson Correlation (test) : 0.790170700113\n"
     ]
    }
   ],
   "source": [
    "from scipy.stats import pearsonr\n",
    "print \"Pearson Correlation (train): {}\".format(pearsonr(y_train, reg.oob_prediction_)[0])\n",
    "print \"Pearson Correlation (test) : {}\".format(pearsonr(y_test, y_pred)[0])"
   ]
  },
  {
   "cell_type": "markdown",
   "metadata": {},
   "source": [
    "Let's create a scatter plot our actual vs predicted ratingScore values."
   ]
  },
  {
   "cell_type": "code",
   "execution_count": 44,
   "metadata": {
    "collapsed": false
   },
   "outputs": [
    {
     "data": {
      "image/png": "[encoded data removed]",
      "text/plain": [
       "<matplotlib.figure.Figure at 0x7f1188c5ae90>"
      ]
     },
     "metadata": {},
     "output_type": "display_data"
    }
   ],
   "source": [
    "plt.figure(figsize=(6,6))\n",
    "plt.plot(y_test, y_pred, 'o')\n",
    "plt.plot([1, 10], [1, 10], 'k--')\n",
    "plt.xlabel(\"Actual\")\n",
    "plt.ylabel(\"Predicted\")\n",
    "plt.title(\"Actual vs. Predicted values for ratingScore\")\n",
    "plt.xlim(1, 10)\n",
    "plt.ylim(1, 10)\n",
    "plt.gca().set_aspect('equal', adjustable='box')\n",
    "plt.show()"
   ]
  },
  {
   "cell_type": "markdown",
   "metadata": {},
   "source": [
    "## Illustrative Plots for the Paper"
   ]
  },
  {
   "cell_type": "markdown",
   "metadata": {},
   "source": [
    "### Correlation Coefficients"
   ]
  },
  {
   "cell_type": "code",
   "execution_count": 46,
   "metadata": {
    "collapsed": false
   },
   "outputs": [
    {
     "data": {
      "image/png": "[encoded data removed]",
      "text/plain": [
       "<matplotlib.figure.Figure at 0x7f1188a67350>"
      ]
     },
     "metadata": {},
     "output_type": "display_data"
    }
   ],
   "source": [
    "# Settings that apply to all plots\n",
    "f, (neg, zero, pos) = plt.subplots(1, 3, figsize=(12, 4))\n",
    "plots = [\n",
    "    (neg,  [[.03, -.03], [.001, .001]]),  # Negative correlation\n",
    "    (zero, [[.05, 0],    [0, .05]]),      # Random (near-zero) correlation\n",
    "    (pos,  [[.03, .03],  [-.001, .001]])] # Positive correlation\n",
    "for (subplot, covariance) in (plots):\n",
    "    # Distributions centered around the midpoint between 0 and 1\n",
    "    mean = [0.5, 0.5]\n",
    "    x, y = np.random.multivariate_normal(mean, covariance, 300).T\n",
    "    subplot.set_aspect('equal', adjustable='box')\n",
    "    subplot.plot(x, y, 'o')\n",
    "    subplot.set_xlim(0,1)\n",
    "    subplot.set_ylim(0,1)\n",
    "    subplot.axes.get_xaxis().set_ticklabels([])\n",
    "    subplot.axes.get_yaxis().set_ticklabels([])\n",
    "    subplot.set_title(\"R = {0:.1f}\".format(pearsonr(x, y)[0]))\n",
    "#Show them all\n",
    "plt.show()"
   ]
  },
  {
   "cell_type": "code",
   "execution_count": null,
   "metadata": {
    "collapsed": true
   },
   "outputs": [],
   "source": []
  }
 ],
 "metadata": {
  "kernelspec": {
   "display_name": "Python 2",
   "language": "python",
   "name": "python2"
  },
  "language_info": {
   "codemirror_mode": {
    "name": "ipython",
    "version": 2
   },
   "file_extension": ".py",
   "mimetype": "text/x-python",
   "name": "python",
   "nbconvert_exporter": "python",
   "pygments_lexer": "ipython2",
   "version": "2.7.6"
  }
 },
 "nbformat": 4,
 "nbformat_minor": 0
}
