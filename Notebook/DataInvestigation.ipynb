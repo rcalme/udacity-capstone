{
 "cells": [
  {
   "cell_type": "code",
   "execution_count": 1,
   "metadata": {
    "collapsed": true
   },
   "outputs": [],
   "source": [
    "# Import libraries\n",
    "import numpy as np\n",
    "import pandas as pd\n",
    "%matplotlib inline\n",
    "import matplotlib.pyplot as plt"
   ]
  },
  {
   "cell_type": "markdown",
   "metadata": {},
   "source": [
    "Read all of our data in as a pandas data frame"
   ]
  },
  {
   "cell_type": "code",
   "execution_count": 3,
   "metadata": {
    "collapsed": false
   },
   "outputs": [
    {
     "data": {
      "text/html": [
       "<div style=\"max-height:1000px;max-width:1500px;overflow:auto;\">\n",
       "<table border=\"1\" class=\"dataframe\">\n",
       "  <thead>\n",
       "    <tr style=\"text-align: right;\">\n",
       "      <th></th>\n",
       "      <th>id</th>\n",
       "      <th>year</th>\n",
       "      <th>ratingScore</th>\n",
       "      <th>ratingCount</th>\n",
       "      <th>ratingStdDev</th>\n",
       "      <th>weightAvg</th>\n",
       "      <th>weightLightPct</th>\n",
       "      <th>weightMediumLightPct</th>\n",
       "      <th>weightMediumPct</th>\n",
       "      <th>weightMediumHeavyPct</th>\n",
       "      <th>weightHeavyPct</th>\n",
       "      <th>playerAgeMin</th>\n",
       "      <th>playtimeMin</th>\n",
       "      <th>playtimeMax</th>\n",
       "      <th>playersStatedMin</th>\n",
       "      <th>playersStatedMax</th>\n",
       "      <th>playersBestMin</th>\n",
       "      <th>playersBestMax</th>\n",
       "      <th>priceAverage</th>\n",
       "      <th>priceStdDev</th>\n",
       "      <th></th>\n",
       "    </tr>\n",
       "  </thead>\n",
       "  <tbody>\n",
       "    <tr>\n",
       "      <th>count</th>\n",
       "      <td>  84593.000000</td>\n",
       "      <td> 84593.000000</td>\n",
       "      <td> 84593.000000</td>\n",
       "      <td> 84593.000000</td>\n",
       "      <td> 84593.000000</td>\n",
       "      <td> 84593.000000</td>\n",
       "      <td> 71714.000000</td>\n",
       "      <td> 71714.000000</td>\n",
       "      <td> 71714.000000</td>\n",
       "      <td> 71714.000000</td>\n",
       "      <td> 71714.000000</td>\n",
       "      <td> 84593.000000</td>\n",
       "      <td> 84593.000000</td>\n",
       "      <td> 84593.000000</td>\n",
       "      <td> 84593.00000</td>\n",
       "      <td> 84593.000000</td>\n",
       "      <td> 84593.000000</td>\n",
       "      <td> 84593.000000</td>\n",
       "      <td> 19461.000000</td>\n",
       "      <td> 19461.000000</td>\n",
       "      <td>...</td>\n",
       "    </tr>\n",
       "    <tr>\n",
       "      <th>mean</th>\n",
       "      <td>  80013.233152</td>\n",
       "      <td>  1807.385008</td>\n",
       "      <td>     4.279174</td>\n",
       "      <td>   110.736988</td>\n",
       "      <td>     0.774242</td>\n",
       "      <td>     0.876848</td>\n",
       "      <td>    19.957703</td>\n",
       "      <td>    16.550744</td>\n",
       "      <td>    10.183793</td>\n",
       "      <td>     3.200719</td>\n",
       "      <td>     1.401069</td>\n",
       "      <td>     7.019162</td>\n",
       "      <td>    47.198243</td>\n",
       "      <td>    51.168395</td>\n",
       "      <td>     1.98825</td>\n",
       "      <td>     5.682491</td>\n",
       "      <td>     2.219664</td>\n",
       "      <td>     5.263934</td>\n",
       "      <td>    24.716603</td>\n",
       "      <td>     7.954304</td>\n",
       "      <td>...</td>\n",
       "    </tr>\n",
       "    <tr>\n",
       "      <th>std</th>\n",
       "      <td>  63960.226532</td>\n",
       "      <td>   588.475029</td>\n",
       "      <td>     3.039157</td>\n",
       "      <td>   929.482652</td>\n",
       "      <td>     0.814887</td>\n",
       "      <td>     1.160127</td>\n",
       "      <td>    35.385330</td>\n",
       "      <td>    29.738281</td>\n",
       "      <td>    23.392949</td>\n",
       "      <td>    12.743502</td>\n",
       "      <td>     8.428136</td>\n",
       "      <td>     6.808049</td>\n",
       "      <td>   327.225953</td>\n",
       "      <td>   341.891784</td>\n",
       "      <td>     0.92677</td>\n",
       "      <td>    55.144456</td>\n",
       "      <td>     1.210552</td>\n",
       "      <td>    54.600688</td>\n",
       "      <td>    33.740133</td>\n",
       "      <td>    16.690697</td>\n",
       "      <td>...</td>\n",
       "    </tr>\n",
       "    <tr>\n",
       "      <th>min</th>\n",
       "      <td>      1.000000</td>\n",
       "      <td> -3500.000000</td>\n",
       "      <td>     0.000000</td>\n",
       "      <td>     0.000000</td>\n",
       "      <td>     0.000000</td>\n",
       "      <td>     0.000000</td>\n",
       "      <td>     0.000000</td>\n",
       "      <td>     0.000000</td>\n",
       "      <td>     0.000000</td>\n",
       "      <td>     0.000000</td>\n",
       "      <td>     0.000000</td>\n",
       "      <td>     0.000000</td>\n",
       "      <td>     0.000000</td>\n",
       "      <td>     0.000000</td>\n",
       "      <td>     0.00000</td>\n",
       "      <td>     0.000000</td>\n",
       "      <td>     0.000000</td>\n",
       "      <td>     0.000000</td>\n",
       "      <td>     0.010000</td>\n",
       "      <td>     0.000000</td>\n",
       "      <td>...</td>\n",
       "    </tr>\n",
       "    <tr>\n",
       "      <th>25%</th>\n",
       "      <td>  23001.000000</td>\n",
       "      <td>  1985.000000</td>\n",
       "      <td>     0.000000</td>\n",
       "      <td>     0.000000</td>\n",
       "      <td>     0.000000</td>\n",
       "      <td>     0.000000</td>\n",
       "      <td>     0.000000</td>\n",
       "      <td>     0.000000</td>\n",
       "      <td>     0.000000</td>\n",
       "      <td>     0.000000</td>\n",
       "      <td>     0.000000</td>\n",
       "      <td>     0.000000</td>\n",
       "      <td>     6.000000</td>\n",
       "      <td>     5.000000</td>\n",
       "      <td>     2.00000</td>\n",
       "      <td>     2.000000</td>\n",
       "      <td>     2.000000</td>\n",
       "      <td>     2.000000</td>\n",
       "      <td>     9.950000</td>\n",
       "      <td>     0.000000</td>\n",
       "      <td>...</td>\n",
       "    </tr>\n",
       "    <tr>\n",
       "      <th>50%</th>\n",
       "      <td>  60049.000000</td>\n",
       "      <td>  2004.000000</td>\n",
       "      <td>     5.333330</td>\n",
       "      <td>     2.000000</td>\n",
       "      <td>     0.695211</td>\n",
       "      <td>     0.000000</td>\n",
       "      <td>     0.000000</td>\n",
       "      <td>     0.000000</td>\n",
       "      <td>     0.000000</td>\n",
       "      <td>     0.000000</td>\n",
       "      <td>     0.000000</td>\n",
       "      <td>     8.000000</td>\n",
       "      <td>    30.000000</td>\n",
       "      <td>    30.000000</td>\n",
       "      <td>     2.00000</td>\n",
       "      <td>     4.000000</td>\n",
       "      <td>     2.000000</td>\n",
       "      <td>     4.000000</td>\n",
       "      <td>    16.663333</td>\n",
       "      <td>     3.925003</td>\n",
       "      <td>...</td>\n",
       "    </tr>\n",
       "    <tr>\n",
       "      <th>75%</th>\n",
       "      <td> 139950.000000</td>\n",
       "      <td>  2011.000000</td>\n",
       "      <td>     6.716100</td>\n",
       "      <td>    15.000000</td>\n",
       "      <td>     1.419710</td>\n",
       "      <td>     1.785700</td>\n",
       "      <td>    25.000000</td>\n",
       "      <td>    25.000000</td>\n",
       "      <td>     0.000000</td>\n",
       "      <td>     0.000000</td>\n",
       "      <td>     0.000000</td>\n",
       "      <td>    12.000000</td>\n",
       "      <td>    60.000000</td>\n",
       "      <td>    60.000000</td>\n",
       "      <td>     2.00000</td>\n",
       "      <td>     6.000000</td>\n",
       "      <td>     2.000000</td>\n",
       "      <td>     6.000000</td>\n",
       "      <td>    29.084300</td>\n",
       "      <td>     9.479418</td>\n",
       "      <td>...</td>\n",
       "    </tr>\n",
       "    <tr>\n",
       "      <th>max</th>\n",
       "      <td> 202858.000000</td>\n",
       "      <td>  2018.000000</td>\n",
       "      <td>    10.000000</td>\n",
       "      <td> 59423.000000</td>\n",
       "      <td>     4.500000</td>\n",
       "      <td>     5.000000</td>\n",
       "      <td>   100.000000</td>\n",
       "      <td>   100.000000</td>\n",
       "      <td>   100.000000</td>\n",
       "      <td>   100.000000</td>\n",
       "      <td>   100.000000</td>\n",
       "      <td>  1333.000000</td>\n",
       "      <td> 60120.000000</td>\n",
       "      <td> 60120.000000</td>\n",
       "      <td>    99.00000</td>\n",
       "      <td> 11299.000000</td>\n",
       "      <td>    99.000000</td>\n",
       "      <td> 11299.000000</td>\n",
       "      <td>  1300.000000</td>\n",
       "      <td>   581.085046</td>\n",
       "      <td>...</td>\n",
       "    </tr>\n",
       "  </tbody>\n",
       "</table>\n",
       "<p>8 rows × 163 columns</p>\n",
       "</div>"
      ],
      "text/plain": [
       "                  id          year   ratingScore   ratingCount  ratingStdDev  \\\n",
       "count   84593.000000  84593.000000  84593.000000  84593.000000  84593.000000   \n",
       "mean    80013.233152   1807.385008      4.279174    110.736988      0.774242   \n",
       "std     63960.226532    588.475029      3.039157    929.482652      0.814887   \n",
       "min         1.000000  -3500.000000      0.000000      0.000000      0.000000   \n",
       "25%     23001.000000   1985.000000      0.000000      0.000000      0.000000   \n",
       "50%     60049.000000   2004.000000      5.333330      2.000000      0.695211   \n",
       "75%    139950.000000   2011.000000      6.716100     15.000000      1.419710   \n",
       "max    202858.000000   2018.000000     10.000000  59423.000000      4.500000   \n",
       "\n",
       "          weightAvg  weightLightPct  weightMediumLightPct  weightMediumPct  \\\n",
       "count  84593.000000    71714.000000          71714.000000     71714.000000   \n",
       "mean       0.876848       19.957703             16.550744        10.183793   \n",
       "std        1.160127       35.385330             29.738281        23.392949   \n",
       "min        0.000000        0.000000              0.000000         0.000000   \n",
       "25%        0.000000        0.000000              0.000000         0.000000   \n",
       "50%        0.000000        0.000000              0.000000         0.000000   \n",
       "75%        1.785700       25.000000             25.000000         0.000000   \n",
       "max        5.000000      100.000000            100.000000       100.000000   \n",
       "\n",
       "       weightMediumHeavyPct  weightHeavyPct  playerAgeMin   playtimeMin  \\\n",
       "count          71714.000000    71714.000000  84593.000000  84593.000000   \n",
       "mean               3.200719        1.401069      7.019162     47.198243   \n",
       "std               12.743502        8.428136      6.808049    327.225953   \n",
       "min                0.000000        0.000000      0.000000      0.000000   \n",
       "25%                0.000000        0.000000      0.000000      6.000000   \n",
       "50%                0.000000        0.000000      8.000000     30.000000   \n",
       "75%                0.000000        0.000000     12.000000     60.000000   \n",
       "max              100.000000      100.000000   1333.000000  60120.000000   \n",
       "\n",
       "        playtimeMax  playersStatedMin  playersStatedMax  playersBestMin  \\\n",
       "count  84593.000000       84593.00000      84593.000000    84593.000000   \n",
       "mean      51.168395           1.98825          5.682491        2.219664   \n",
       "std      341.891784           0.92677         55.144456        1.210552   \n",
       "min        0.000000           0.00000          0.000000        0.000000   \n",
       "25%        5.000000           2.00000          2.000000        2.000000   \n",
       "50%       30.000000           2.00000          4.000000        2.000000   \n",
       "75%       60.000000           2.00000          6.000000        2.000000   \n",
       "max    60120.000000          99.00000      11299.000000       99.000000   \n",
       "\n",
       "       playersBestMax  priceAverage   priceStdDev      \n",
       "count    84593.000000  19461.000000  19461.000000 ...  \n",
       "mean         5.263934     24.716603      7.954304 ...  \n",
       "std         54.600688     33.740133     16.690697 ...  \n",
       "min          0.000000      0.010000      0.000000 ...  \n",
       "25%          2.000000      9.950000      0.000000 ...  \n",
       "50%          4.000000     16.663333      3.925003 ...  \n",
       "75%          6.000000     29.084300      9.479418 ...  \n",
       "max      11299.000000   1300.000000    581.085046 ...  \n",
       "\n",
       "[8 rows x 163 columns]"
      ]
     },
     "execution_count": 3,
     "metadata": {},
     "output_type": "execute_result"
    }
   ],
   "source": [
    "allData = pd.read_csv(\"../Data/CSV/games.csv\")\n",
    "allData.describe()"
   ]
  },
  {
   "cell_type": "markdown",
   "metadata": {},
   "source": [
    "Subset the data to remove some rows with missing feature values"
   ]
  },
  {
   "cell_type": "code",
   "execution_count": 4,
   "metadata": {
    "collapsed": false
   },
   "outputs": [
    {
     "data": {
      "text/plain": [
       "84593"
      ]
     },
     "execution_count": 4,
     "metadata": {},
     "output_type": "execute_result"
    }
   ],
   "source": [
    "len(allData)"
   ]
  },
  {
   "cell_type": "code",
   "execution_count": 5,
   "metadata": {
    "collapsed": false
   },
   "outputs": [
    {
     "data": {
      "text/plain": [
       "19095"
      ]
     },
     "execution_count": 5,
     "metadata": {},
     "output_type": "execute_result"
    }
   ],
   "source": [
    "allWithoutNA = allData.dropna()\n",
    "len(allWithoutNA)"
   ]
  },
  {
   "cell_type": "code",
   "execution_count": 6,
   "metadata": {
    "collapsed": false
   },
   "outputs": [
    {
     "data": {
      "text/plain": [
       "18799"
      ]
     },
     "execution_count": 6,
     "metadata": {},
     "output_type": "execute_result"
    }
   ],
   "source": [
    "since1950 = allWithoutNA.query(\"year >= 1950\")\n",
    "len(since1950)"
   ]
  },
  {
   "cell_type": "code",
   "execution_count": 7,
   "metadata": {
    "collapsed": false
   },
   "outputs": [
    {
     "data": {
      "text/plain": [
       "18141"
      ]
     },
     "execution_count": 7,
     "metadata": {},
     "output_type": "execute_result"
    }
   ],
   "source": [
    "atLeastThreeRaters = since1950.query(\"ratingCount > 2\")\n",
    "len(atLeastThreeRaters)"
   ]
  },
  {
   "cell_type": "code",
   "execution_count": 16,
   "metadata": {
    "collapsed": false
   },
   "outputs": [
    {
     "data": {
      "text/plain": [
       "<matplotlib.axes.AxesSubplot at 0x7ffacfb2f110>"
      ]
     },
     "execution_count": 16,
     "metadata": {},
     "output_type": "execute_result"
    },
    {
     "data": {
      "image/png": "[encoded data removed]",
      "text/plain": [
       "<matplotlib.figure.Figure at 0x7ffacfb7b310>"
      ]
     },
     "metadata": {},
     "output_type": "display_data"
    }
   ],
   "source": [
    "atLeastThreeRaters.ratingScore.hist(bins=100)"
   ]
  },
  {
   "cell_type": "code",
   "execution_count": 20,
   "metadata": {
    "collapsed": false
   },
   "outputs": [],
   "source": [
    "df = atLeastThreeRaters"
   ]
  },
  {
   "cell_type": "code",
   "execution_count": 25,
   "metadata": {
    "collapsed": false
   },
   "outputs": [
    {
     "name": "stdout",
     "output_type": "stream",
     "text": [
      "\n",
      "Feature values:-\n",
      "   year  weightAvg  weightLightPct  weightMediumLightPct  weightMediumPct  \\\n",
      "0  1986     4.3436        0.420757              0.841515        11.500701   \n",
      "1  1981     1.9423       21.153846             65.384615        11.538462   \n",
      "2  1998     2.5079        6.067416             43.895131        43.820225   \n",
      "3  1992     2.6667        6.666667             33.333333        46.666667   \n",
      "4  1964     2.5128        5.906040             43.422819        45.033557   \n",
      "\n",
      "   weightMediumHeavyPct  weightHeavyPct  playerAgeMin  playtimeMin  \\\n",
      "0             38.429173       48.807854            14          240   \n",
      "1              1.923077        0.000000            12           30   \n",
      "2              5.617978        0.599251            10           30   \n",
      "3             13.333333        0.000000            12           60   \n",
      "4              4.765101        0.872483            12           90   \n",
      "\n",
      "   playtimeMax  playersStatedMin  playersStatedMax  playersBestMin  \\\n",
      "0          240                 3                 5               5   \n",
      "1           30                 3                 4               4   \n",
      "2           60                 2                 4               3   \n",
      "3           60                 2                 4               3   \n",
      "4           90                 3                 6               4   \n",
      "\n",
      "   playersBestMax  priceAverage  priceStdDev  category:Abstract Strategy  \\\n",
      "0               5     76.481000    22.197491                           0   \n",
      "1               4     24.984667    12.136657                           0   \n",
      "2               3     42.937300    16.508627                           1   \n",
      "3               3     54.263750    15.069220                           0   \n",
      "4               4     46.754500    43.708313                           0   \n",
      "\n",
      "   category:Action / Dexterity  category:Adventure  category:Age of Reason      \n",
      "0                            0                   0                       0 ...  \n",
      "1                            0                   0                       0 ...  \n",
      "2                            0                   0                       0 ...  \n",
      "3                            0                   0                       0 ...  \n",
      "4                            0                   0                       0 ...  \n",
      "\n",
      "[5 rows x 159 columns]\n"
     ]
    }
   ],
   "source": [
    "# Extract feature (X) and target (y) columns\n",
    "excluded = [\"id\", \"name\", \"url\", \"ratingScore\", \"ratingCount\", \"ratingStdDev\"]\n",
    "feature_cols = [col for col in df.columns if col not in excluded]\n",
    "target_col = \"ratingScore\" # This is our target\n",
    "\n",
    "X_all = df[feature_cols]  # feature values for all students\n",
    "y_all = df[target_col]  # corresponding targets/labels\n",
    "print \"\\nFeature values:-\"\n",
    "print X_all.head()  # print the first 5 rows"
   ]
  },
  {
   "cell_type": "code",
   "execution_count": 27,
   "metadata": {
    "collapsed": false
   },
   "outputs": [
    {
     "name": "stdout",
     "output_type": "stream",
     "text": [
      "Training set: 14512 samples\n",
      "Test set: 3629 samples\n"
     ]
    }
   ],
   "source": [
    "# First, decide how many training vs test samples you want\n",
    "num_all = df.shape[0]  # same as len(student_data)\n",
    "num_train = int(0.8 * num_all)  # 80% of the data for training\n",
    "\n",
    "# Select features (X) and corresponding labels (y) for the training and test sets\n",
    "# Note: Shuffle the data or randomly select samples to avoid any bias due to ordering in the dataset\n",
    "from sklearn.cross_validation import train_test_split\n",
    "X_train, X_test, y_train, y_test = train_test_split(X_all, y_all, train_size=num_train, random_state=12)\n",
    "\n",
    "print \"Training set: {} samples\".format(X_train.shape[0])\n",
    "print \"Test set: {} samples\".format(X_test.shape[0])\n",
    "# Note: If you need a validation set, extract it from within training data"
   ]
  },
  {
   "cell_type": "code",
   "execution_count": 31,
   "metadata": {
    "collapsed": false
   },
   "outputs": [
    {
     "name": "stdout",
     "output_type": "stream",
     "text": [
      "Training RandomForestRegressor...\n",
      "Done!\n",
      "Training time (secs): 513.436\n",
      "RandomForestRegressor(bootstrap=True, criterion='mse', max_depth=None,\n",
      "           max_features='auto', max_leaf_nodes=None, min_samples_leaf=1,\n",
      "           min_samples_split=5, min_weight_fraction_leaf=0.0,\n",
      "           n_estimators=2000, n_jobs=1, oob_score=False, random_state=12,\n",
      "           verbose=0, warm_start=False)\n"
     ]
    }
   ],
   "source": [
    "# Train a model\n",
    "import time\n",
    "\n",
    "def train_regressor(reg, X_train, y_train):\n",
    "    print \"Training {}...\".format(reg.__class__.__name__)\n",
    "    start = time.time()\n",
    "    reg.fit(X_train, y_train)\n",
    "    end = time.time()\n",
    "    print \"Done!\\nTraining time (secs): {:.3f}\".format(end - start)\n",
    "\n",
    "# TODO: Choose a model, import it and instantiate an object\n",
    "from sklearn.ensemble import RandomForestRegressor\n",
    "reg = RandomForestRegressor(n_estimators=2000, min_samples_split=5, random_state=12)\n",
    "\n",
    "# Fit model to training data\n",
    "train_regressor(reg, X_train, y_train)  # note: using entire training set here\n",
    "print reg  # you can inspect the learned model by printing it"
   ]
  },
  {
   "cell_type": "code",
   "execution_count": 97,
   "metadata": {
    "collapsed": false
   },
   "outputs": [
    {
     "name": "stdout",
     "output_type": "stream",
     "text": [
      "Predicting labels using RandomForestRegressor...\n",
      "Done!\n",
      "Prediction time (secs): 7.664\n",
      "Predicting labels using RandomForestRegressor...\n",
      "Done!\n",
      "Prediction time (secs): 1.961\n"
     ]
    }
   ],
   "source": [
    "from sklearn.metrics import cohen_kappa_score, confusion_matrix, mean_squared_error\n",
    "def predict(reg, features, target):\n",
    "    print \"Predicting labels using {}...\".format(reg.__class__.__name__)\n",
    "    start = time.time()\n",
    "    y_pred = reg.predict(features)\n",
    "    end = time.time()\n",
    "    print \"Done!\\nPrediction time (secs): {:.3f}\".format(end - start)\n",
    "    return pd.Series(y_pred)\n",
    "\n",
    "y_train_pred = predict(reg, X_train, y_train)\n",
    "y_test_pred  = predict(reg, X_test, y_test)"
   ]
  },
  {
   "cell_type": "code",
   "execution_count": 98,
   "metadata": {
    "collapsed": false
   },
   "outputs": [
    {
     "name": "stdout",
     "output_type": "stream",
     "text": [
      "Mean Squared Error (train): 0.0753190944204\n",
      "Mean Squared Error (test) : 0.401570723774\n"
     ]
    }
   ],
   "source": [
    "print \"Mean Squared Error (train): {}\".format(mean_squared_error(y_train, y_train_pred))\n",
    "print \"Mean Squared Error (test) : {}\".format(mean_squared_error(y_test,  y_test_pred))"
   ]
  },
  {
   "cell_type": "code",
   "execution_count": 99,
   "metadata": {
    "collapsed": false
   },
   "outputs": [
    {
     "name": "stdout",
     "output_type": "stream",
     "text": [
      "Confusion matrix (train):\n",
      "[[   0    0    0    0    0    0    0    0    0    0    0]\n",
      " [   0    0    0    0    0    0    0    0    0    0    0]\n",
      " [   0    0    0    6    8    0    0    0    0    0    0]\n",
      " [   0    0    0    0   78   12    0    0    0    0    0]\n",
      " [   0    0    0    0  117  299    1    0    0    0    0]\n",
      " [   0    0    0    0    0 1193  512    0    0    0    0]\n",
      " [   0    0    0    0    0  155 4244  381    0    0    0]\n",
      " [   0    0    0    0    0    0  543 4509   84    0    0]\n",
      " [   0    0    0    0    0    0    4  573 1636    5    0]\n",
      " [   0    0    0    0    0    0    0    5   95   43    0]\n",
      " [   0    0    0    0    0    0    0    0    1    2    6]]\n",
      "Confusion matrix (test):\n",
      "[[  0   0   0   0   0   0   0   0   0   0   0]\n",
      " [  0   0   0   0   0   1   0   0   0   0   0]\n",
      " [  0   0   0   0   1   2   2   0   0   0   0]\n",
      " [  0   0   0   0   0  11   6   0   0   0   0]\n",
      " [  0   0   0   0   1  82  37   1   0   0   0]\n",
      " [  0   0   0   0   1 176 205  23   1   0   0]\n",
      " [  0   0   0   0   0 116 772 285   7   0   0]\n",
      " [  0   0   0   0   0  14 316 898  84   0   0]\n",
      " [  0   0   0   0   0   3  24 238 273   3   0]\n",
      " [  0   0   0   0   0   0   1   5  34   4   0]\n",
      " [  0   0   0   0   0   0   1   1   0   0   0]]\n"
     ]
    }
   ],
   "source": [
    "print \"Confusion matrix (train):\\n{}\".format(confusion_matrix(np.rint(y_train), np.rint(y_train_pred), labels=range(0,11)))\n",
    "print \"Confusion matrix (test):\\n{}\".format(confusion_matrix(np.rint(y_test), np.rint(y_test_pred), labels=range(0,11)))"
   ]
  },
  {
   "cell_type": "code",
   "execution_count": 100,
   "metadata": {
    "collapsed": false
   },
   "outputs": [
    {
     "name": "stdout",
     "output_type": "stream",
     "text": [
      "Exact agreement (train): 0.80953693495\n",
      "Exact agreement (test) : 0.585285202535\n"
     ]
    }
   ],
   "source": [
    "from sklearn.metrics import accuracy_score, f1_score\n",
    "print \"Exact agreement (train): {}\".format(accuracy_score(np.rint(y_train), np.rint(y_train_pred)))\n",
    "print \"Exact agreement (test) : {}\".format(accuracy_score(np.rint(y_test), np.rint(y_test_pred)))"
   ]
  },
  {
   "cell_type": "code",
   "execution_count": 101,
   "metadata": {
    "collapsed": false
   },
   "outputs": [
    {
     "name": "stdout",
     "output_type": "stream",
     "text": [
      "F1 Score (train): 0.801264091058\n",
      "F1 Score (test) : 0.569936147581\n"
     ]
    }
   ],
   "source": [
    "print \"F1 Score (train): {}\".format(f1_score(np.rint(y_train), np.rint(y_train_pred), average='weighted'))\n",
    "print \"F1 Score (test) : {}\".format(f1_score(np.rint(y_test), np.rint(y_test_pred), average='weighted'))"
   ]
  },
  {
   "cell_type": "code",
   "execution_count": 102,
   "metadata": {
    "collapsed": false
   },
   "outputs": [
    {
     "name": "stdout",
     "output_type": "stream",
     "text": [
      "Pearson Correlation (train): 0.969819085363\n",
      "Pearson Correlation (test) : 0.790170700113\n"
     ]
    }
   ],
   "source": [
    "from scipy.stats import pearsonr\n",
    "print \"Pearson Correlation (train): {}\".format(pearsonr(y_train, y_train_pred)[0])\n",
    "print \"Pearson Correlation (test) : {}\".format(pearsonr(y_test, y_test_pred)[0])"
   ]
  },
  {
   "cell_type": "code",
   "execution_count": null,
   "metadata": {
    "collapsed": true
   },
   "outputs": [],
   "source": []
  }
 ],
 "metadata": {
  "kernelspec": {
   "display_name": "Python 2",
   "language": "python",
   "name": "python2"
  },
  "language_info": {
   "codemirror_mode": {
    "name": "ipython",
    "version": 2
   },
   "file_extension": ".py",
   "mimetype": "text/x-python",
   "name": "python",
   "nbconvert_exporter": "python",
   "pygments_lexer": "ipython2",
   "version": "2.7.6"
  }
 },
 "nbformat": 4,
 "nbformat_minor": 0
}
